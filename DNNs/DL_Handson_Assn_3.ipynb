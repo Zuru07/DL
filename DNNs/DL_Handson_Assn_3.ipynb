{
  "cells": [
    {
      "cell_type": "code",
      "execution_count": 5,
      "metadata": {
        "id": "SNo1Bm2Vwrxy"
      },
      "outputs": [],
      "source": [
        "import tensorflow as tf\n",
        "from tensorflow.keras import layers\n",
        "from tensorflow.keras.datasets import fashion_mnist\n",
        "from tensorflow.keras import initializers"
      ]
    },
    {
      "cell_type": "markdown",
      "metadata": {
        "id": "n40j2cm_xBtF"
      },
      "source": [
        "# Training Deep Neural Networks (Dense Nets)\n",
        "1. Easy way\n",
        "2. The Expert way"
      ]
    },
    {
      "cell_type": "code",
      "execution_count": 6,
      "metadata": {
        "id": "1RA1VYF1xYrz"
      },
      "outputs": [
        {
          "name": "stdout",
          "output_type": "stream",
          "text": [
            "Downloading data from https://storage.googleapis.com/tensorflow/tf-keras-datasets/train-labels-idx1-ubyte.gz\n",
            "\u001b[1m29515/29515\u001b[0m \u001b[32m━━━━━━━━━━━━━━━━━━━━\u001b[0m\u001b[37m\u001b[0m \u001b[1m0s\u001b[0m 13us/step\n",
            "Downloading data from https://storage.googleapis.com/tensorflow/tf-keras-datasets/train-images-idx3-ubyte.gz\n",
            "\u001b[1m26421880/26421880\u001b[0m \u001b[32m━━━━━━━━━━━━━━━━━━━━\u001b[0m\u001b[37m\u001b[0m \u001b[1m27s\u001b[0m 1us/step\n",
            "Downloading data from https://storage.googleapis.com/tensorflow/tf-keras-datasets/t10k-labels-idx1-ubyte.gz\n",
            "\u001b[1m5148/5148\u001b[0m \u001b[32m━━━━━━━━━━━━━━━━━━━━\u001b[0m\u001b[37m\u001b[0m \u001b[1m0s\u001b[0m 0us/step\n",
            "Downloading data from https://storage.googleapis.com/tensorflow/tf-keras-datasets/t10k-images-idx3-ubyte.gz\n",
            "\u001b[1m4422102/4422102\u001b[0m \u001b[32m━━━━━━━━━━━━━━━━━━━━\u001b[0m\u001b[37m\u001b[0m \u001b[1m3s\u001b[0m 1us/step\n"
          ]
        }
      ],
      "source": [
        "# Data Preprocessing\n",
        "\n",
        "(x_train, y_train), (x_test, y_test) = tf.keras.datasets.fashion_mnist.load_data()\n",
        "\n",
        "# Normalize and flatten\n",
        "x_train = x_train.reshape(-1, 784).astype(\"float32\") / 255.0\n",
        "x_test  = x_test.reshape(-1, 784).astype(\"float32\") / 255.0"
      ]
    },
    {
      "cell_type": "markdown",
      "metadata": {
        "id": "Jx3uTq-_0TK-"
      },
      "source": [
        "## Using Classes"
      ]
    },
    {
      "cell_type": "code",
      "execution_count": 7,
      "metadata": {
        "id": "HQJvtLwO0U-R"
      },
      "outputs": [],
      "source": [
        "class FashionDNN(tf.keras.Model):\n",
        "    def __init__(self, hidden_units=[128, 64], num_classes=10):\n",
        "        super().__init__()\n",
        "        self.hidden = [layers.Dense(units, activation='relu') for units in hidden_units]\n",
        "        self.dropout = layers.Dropout(0.3)\n",
        "        self.out = layers.Dense(num_classes, activation='softmax')\n",
        "\n",
        "\n",
        "    def call(self, x, training_flag=False):\n",
        "        print(type(self.hidden), len(self.hidden))\n",
        "        for h in self.hidden:\n",
        "            x = h(x)\n",
        "        if training_flag:\n",
        "            x = self.dropout(x, training=training_flag)\n",
        "        return self.out(x)"
      ]
    },
    {
      "cell_type": "code",
      "execution_count": 8,
      "metadata": {
        "id": "d6KOmzl30ec8"
      },
      "outputs": [
        {
          "name": "stdout",
          "output_type": "stream",
          "text": [
            "Epoch 1/5\n",
            "<class 'keras.src.utils.tracking.TrackedList'> 2\n",
            "<class 'keras.src.utils.tracking.TrackedList'> 2\n",
            "<class 'keras.src.utils.tracking.TrackedList'> 2\n",
            "\u001b[1m1492/1500\u001b[0m \u001b[32m━━━━━━━━━━━━━━━━━━━\u001b[0m\u001b[37m━\u001b[0m \u001b[1m0s\u001b[0m 3ms/step - accuracy: 0.7694 - loss: 0.6574<class 'keras.src.utils.tracking.TrackedList'> 2\n",
            "\u001b[1m1500/1500\u001b[0m \u001b[32m━━━━━━━━━━━━━━━━━━━━\u001b[0m\u001b[37m\u001b[0m \u001b[1m6s\u001b[0m 3ms/step - accuracy: 0.8187 - loss: 0.5115 - val_accuracy: 0.8503 - val_loss: 0.4241\n",
            "Epoch 2/5\n",
            "\u001b[1m1500/1500\u001b[0m \u001b[32m━━━━━━━━━━━━━━━━━━━━\u001b[0m\u001b[37m\u001b[0m \u001b[1m4s\u001b[0m 3ms/step - accuracy: 0.8639 - loss: 0.3770 - val_accuracy: 0.8643 - val_loss: 0.3753\n",
            "Epoch 3/5\n",
            "\u001b[1m1500/1500\u001b[0m \u001b[32m━━━━━━━━━━━━━━━━━━━━\u001b[0m\u001b[37m\u001b[0m \u001b[1m5s\u001b[0m 3ms/step - accuracy: 0.8751 - loss: 0.3418 - val_accuracy: 0.8726 - val_loss: 0.3520\n",
            "Epoch 4/5\n",
            "\u001b[1m1500/1500\u001b[0m \u001b[32m━━━━━━━━━━━━━━━━━━━━\u001b[0m\u001b[37m\u001b[0m \u001b[1m4s\u001b[0m 3ms/step - accuracy: 0.8831 - loss: 0.3188 - val_accuracy: 0.8528 - val_loss: 0.3927\n",
            "Epoch 5/5\n",
            "\u001b[1m1500/1500\u001b[0m \u001b[32m━━━━━━━━━━━━━━━━━━━━\u001b[0m\u001b[37m\u001b[0m \u001b[1m4s\u001b[0m 3ms/step - accuracy: 0.8891 - loss: 0.3010 - val_accuracy: 0.8719 - val_loss: 0.3554\n"
          ]
        }
      ],
      "source": [
        "model = FashionDNN()\n",
        "\n",
        "model.compile(optimizer='adam',\n",
        "              loss='sparse_categorical_crossentropy',\n",
        "              metrics=['accuracy'])\n",
        "\n",
        "history = model.fit(x_train, y_train,\n",
        "                    epochs=5,\n",
        "                    batch_size=32,\n",
        "                    validation_split=0.2)"
      ]
    },
    {
      "cell_type": "code",
      "execution_count": 9,
      "metadata": {
        "id": "dSzQEvnh3b6R"
      },
      "outputs": [
        {
          "data": {
            "text/html": [
              "<pre style=\"white-space:pre;overflow-x:auto;line-height:normal;font-family:Menlo,'DejaVu Sans Mono',consolas,'Courier New',monospace\"><span style=\"font-weight: bold\">Model: \"fashion_dnn_2\"</span>\n",
              "</pre>\n"
            ],
            "text/plain": [
              "\u001b[1mModel: \"fashion_dnn_2\"\u001b[0m\n"
            ]
          },
          "metadata": {},
          "output_type": "display_data"
        },
        {
          "data": {
            "text/html": [
              "<pre style=\"white-space:pre;overflow-x:auto;line-height:normal;font-family:Menlo,'DejaVu Sans Mono',consolas,'Courier New',monospace\">┏━━━━━━━━━━━━━━━━━━━━━━━━━━━━━━━━━┳━━━━━━━━━━━━━━━━━━━━━━━━┳━━━━━━━━━━━━━━━┓\n",
              "┃<span style=\"font-weight: bold\"> Layer (type)                    </span>┃<span style=\"font-weight: bold\"> Output Shape           </span>┃<span style=\"font-weight: bold\">       Param # </span>┃\n",
              "┡━━━━━━━━━━━━━━━━━━━━━━━━━━━━━━━━━╇━━━━━━━━━━━━━━━━━━━━━━━━╇━━━━━━━━━━━━━━━┩\n",
              "│ dense_6 (<span style=\"color: #0087ff; text-decoration-color: #0087ff\">Dense</span>)                 │ ?                      │   <span style=\"color: #00af00; text-decoration-color: #00af00\">0</span> (unbuilt) │\n",
              "├─────────────────────────────────┼────────────────────────┼───────────────┤\n",
              "│ dense_7 (<span style=\"color: #0087ff; text-decoration-color: #0087ff\">Dense</span>)                 │ ?                      │   <span style=\"color: #00af00; text-decoration-color: #00af00\">0</span> (unbuilt) │\n",
              "├─────────────────────────────────┼────────────────────────┼───────────────┤\n",
              "│ dropout_2 (<span style=\"color: #0087ff; text-decoration-color: #0087ff\">Dropout</span>)             │ ?                      │             <span style=\"color: #00af00; text-decoration-color: #00af00\">0</span> │\n",
              "├─────────────────────────────────┼────────────────────────┼───────────────┤\n",
              "│ dense_8 (<span style=\"color: #0087ff; text-decoration-color: #0087ff\">Dense</span>)                 │ ?                      │   <span style=\"color: #00af00; text-decoration-color: #00af00\">0</span> (unbuilt) │\n",
              "└─────────────────────────────────┴────────────────────────┴───────────────┘\n",
              "</pre>\n"
            ],
            "text/plain": [
              "┏━━━━━━━━━━━━━━━━━━━━━━━━━━━━━━━━━┳━━━━━━━━━━━━━━━━━━━━━━━━┳━━━━━━━━━━━━━━━┓\n",
              "┃\u001b[1m \u001b[0m\u001b[1mLayer (type)                   \u001b[0m\u001b[1m \u001b[0m┃\u001b[1m \u001b[0m\u001b[1mOutput Shape          \u001b[0m\u001b[1m \u001b[0m┃\u001b[1m \u001b[0m\u001b[1m      Param #\u001b[0m\u001b[1m \u001b[0m┃\n",
              "┡━━━━━━━━━━━━━━━━━━━━━━━━━━━━━━━━━╇━━━━━━━━━━━━━━━━━━━━━━━━╇━━━━━━━━━━━━━━━┩\n",
              "│ dense_6 (\u001b[38;5;33mDense\u001b[0m)                 │ ?                      │   \u001b[38;5;34m0\u001b[0m (unbuilt) │\n",
              "├─────────────────────────────────┼────────────────────────┼───────────────┤\n",
              "│ dense_7 (\u001b[38;5;33mDense\u001b[0m)                 │ ?                      │   \u001b[38;5;34m0\u001b[0m (unbuilt) │\n",
              "├─────────────────────────────────┼────────────────────────┼───────────────┤\n",
              "│ dropout_2 (\u001b[38;5;33mDropout\u001b[0m)             │ ?                      │             \u001b[38;5;34m0\u001b[0m │\n",
              "├─────────────────────────────────┼────────────────────────┼───────────────┤\n",
              "│ dense_8 (\u001b[38;5;33mDense\u001b[0m)                 │ ?                      │   \u001b[38;5;34m0\u001b[0m (unbuilt) │\n",
              "└─────────────────────────────────┴────────────────────────┴───────────────┘\n"
            ]
          },
          "metadata": {},
          "output_type": "display_data"
        },
        {
          "data": {
            "text/html": [
              "<pre style=\"white-space:pre;overflow-x:auto;line-height:normal;font-family:Menlo,'DejaVu Sans Mono',consolas,'Courier New',monospace\"><span style=\"font-weight: bold\"> Total params: </span><span style=\"color: #00af00; text-decoration-color: #00af00\">0</span> (0.00 B)\n",
              "</pre>\n"
            ],
            "text/plain": [
              "\u001b[1m Total params: \u001b[0m\u001b[38;5;34m0\u001b[0m (0.00 B)\n"
            ]
          },
          "metadata": {},
          "output_type": "display_data"
        },
        {
          "data": {
            "text/html": [
              "<pre style=\"white-space:pre;overflow-x:auto;line-height:normal;font-family:Menlo,'DejaVu Sans Mono',consolas,'Courier New',monospace\"><span style=\"font-weight: bold\"> Trainable params: </span><span style=\"color: #00af00; text-decoration-color: #00af00\">0</span> (0.00 B)\n",
              "</pre>\n"
            ],
            "text/plain": [
              "\u001b[1m Trainable params: \u001b[0m\u001b[38;5;34m0\u001b[0m (0.00 B)\n"
            ]
          },
          "metadata": {},
          "output_type": "display_data"
        },
        {
          "data": {
            "text/html": [
              "<pre style=\"white-space:pre;overflow-x:auto;line-height:normal;font-family:Menlo,'DejaVu Sans Mono',consolas,'Courier New',monospace\"><span style=\"font-weight: bold\"> Non-trainable params: </span><span style=\"color: #00af00; text-decoration-color: #00af00\">0</span> (0.00 B)\n",
              "</pre>\n"
            ],
            "text/plain": [
              "\u001b[1m Non-trainable params: \u001b[0m\u001b[38;5;34m0\u001b[0m (0.00 B)\n"
            ]
          },
          "metadata": {},
          "output_type": "display_data"
        },
        {
          "name": "stdout",
          "output_type": "stream",
          "text": [
            "<class 'keras.src.utils.tracking.TrackedList'> 2\n",
            "<class 'keras.src.utils.tracking.TrackedList'> 2\n"
          ]
        },
        {
          "data": {
            "text/html": [
              "<pre style=\"white-space:pre;overflow-x:auto;line-height:normal;font-family:Menlo,'DejaVu Sans Mono',consolas,'Courier New',monospace\"><span style=\"font-weight: bold\">Model: \"fashion_dnn_2\"</span>\n",
              "</pre>\n"
            ],
            "text/plain": [
              "\u001b[1mModel: \"fashion_dnn_2\"\u001b[0m\n"
            ]
          },
          "metadata": {},
          "output_type": "display_data"
        },
        {
          "data": {
            "text/html": [
              "<pre style=\"white-space:pre;overflow-x:auto;line-height:normal;font-family:Menlo,'DejaVu Sans Mono',consolas,'Courier New',monospace\">┏━━━━━━━━━━━━━━━━━━━━━━━━━━━━━━━━━┳━━━━━━━━━━━━━━━━━━━━━━━━┳━━━━━━━━━━━━━━━┓\n",
              "┃<span style=\"font-weight: bold\"> Layer (type)                    </span>┃<span style=\"font-weight: bold\"> Output Shape           </span>┃<span style=\"font-weight: bold\">       Param # </span>┃\n",
              "┡━━━━━━━━━━━━━━━━━━━━━━━━━━━━━━━━━╇━━━━━━━━━━━━━━━━━━━━━━━━╇━━━━━━━━━━━━━━━┩\n",
              "│ dense_6 (<span style=\"color: #0087ff; text-decoration-color: #0087ff\">Dense</span>)                 │ (<span style=\"color: #00af00; text-decoration-color: #00af00\">1</span>, <span style=\"color: #00af00; text-decoration-color: #00af00\">128</span>)               │        <span style=\"color: #00af00; text-decoration-color: #00af00\">53,888</span> │\n",
              "├─────────────────────────────────┼────────────────────────┼───────────────┤\n",
              "│ dense_7 (<span style=\"color: #0087ff; text-decoration-color: #0087ff\">Dense</span>)                 │ (<span style=\"color: #00af00; text-decoration-color: #00af00\">1</span>, <span style=\"color: #00af00; text-decoration-color: #00af00\">64</span>)                │         <span style=\"color: #00af00; text-decoration-color: #00af00\">8,256</span> │\n",
              "├─────────────────────────────────┼────────────────────────┼───────────────┤\n",
              "│ dropout_2 (<span style=\"color: #0087ff; text-decoration-color: #0087ff\">Dropout</span>)             │ ?                      │             <span style=\"color: #00af00; text-decoration-color: #00af00\">0</span> │\n",
              "├─────────────────────────────────┼────────────────────────┼───────────────┤\n",
              "│ dense_8 (<span style=\"color: #0087ff; text-decoration-color: #0087ff\">Dense</span>)                 │ (<span style=\"color: #00af00; text-decoration-color: #00af00\">1</span>, <span style=\"color: #00af00; text-decoration-color: #00af00\">10</span>)                │           <span style=\"color: #00af00; text-decoration-color: #00af00\">650</span> │\n",
              "└─────────────────────────────────┴────────────────────────┴───────────────┘\n",
              "</pre>\n"
            ],
            "text/plain": [
              "┏━━━━━━━━━━━━━━━━━━━━━━━━━━━━━━━━━┳━━━━━━━━━━━━━━━━━━━━━━━━┳━━━━━━━━━━━━━━━┓\n",
              "┃\u001b[1m \u001b[0m\u001b[1mLayer (type)                   \u001b[0m\u001b[1m \u001b[0m┃\u001b[1m \u001b[0m\u001b[1mOutput Shape          \u001b[0m\u001b[1m \u001b[0m┃\u001b[1m \u001b[0m\u001b[1m      Param #\u001b[0m\u001b[1m \u001b[0m┃\n",
              "┡━━━━━━━━━━━━━━━━━━━━━━━━━━━━━━━━━╇━━━━━━━━━━━━━━━━━━━━━━━━╇━━━━━━━━━━━━━━━┩\n",
              "│ dense_6 (\u001b[38;5;33mDense\u001b[0m)                 │ (\u001b[38;5;34m1\u001b[0m, \u001b[38;5;34m128\u001b[0m)               │        \u001b[38;5;34m53,888\u001b[0m │\n",
              "├─────────────────────────────────┼────────────────────────┼───────────────┤\n",
              "│ dense_7 (\u001b[38;5;33mDense\u001b[0m)                 │ (\u001b[38;5;34m1\u001b[0m, \u001b[38;5;34m64\u001b[0m)                │         \u001b[38;5;34m8,256\u001b[0m │\n",
              "├─────────────────────────────────┼────────────────────────┼───────────────┤\n",
              "│ dropout_2 (\u001b[38;5;33mDropout\u001b[0m)             │ ?                      │             \u001b[38;5;34m0\u001b[0m │\n",
              "├─────────────────────────────────┼────────────────────────┼───────────────┤\n",
              "│ dense_8 (\u001b[38;5;33mDense\u001b[0m)                 │ (\u001b[38;5;34m1\u001b[0m, \u001b[38;5;34m10\u001b[0m)                │           \u001b[38;5;34m650\u001b[0m │\n",
              "└─────────────────────────────────┴────────────────────────┴───────────────┘\n"
            ]
          },
          "metadata": {},
          "output_type": "display_data"
        },
        {
          "data": {
            "text/html": [
              "<pre style=\"white-space:pre;overflow-x:auto;line-height:normal;font-family:Menlo,'DejaVu Sans Mono',consolas,'Courier New',monospace\"><span style=\"font-weight: bold\"> Total params: </span><span style=\"color: #00af00; text-decoration-color: #00af00\">62,794</span> (245.29 KB)\n",
              "</pre>\n"
            ],
            "text/plain": [
              "\u001b[1m Total params: \u001b[0m\u001b[38;5;34m62,794\u001b[0m (245.29 KB)\n"
            ]
          },
          "metadata": {},
          "output_type": "display_data"
        },
        {
          "data": {
            "text/html": [
              "<pre style=\"white-space:pre;overflow-x:auto;line-height:normal;font-family:Menlo,'DejaVu Sans Mono',consolas,'Courier New',monospace\"><span style=\"font-weight: bold\"> Trainable params: </span><span style=\"color: #00af00; text-decoration-color: #00af00\">62,794</span> (245.29 KB)\n",
              "</pre>\n"
            ],
            "text/plain": [
              "\u001b[1m Trainable params: \u001b[0m\u001b[38;5;34m62,794\u001b[0m (245.29 KB)\n"
            ]
          },
          "metadata": {},
          "output_type": "display_data"
        },
        {
          "data": {
            "text/html": [
              "<pre style=\"white-space:pre;overflow-x:auto;line-height:normal;font-family:Menlo,'DejaVu Sans Mono',consolas,'Courier New',monospace\"><span style=\"font-weight: bold\"> Non-trainable params: </span><span style=\"color: #00af00; text-decoration-color: #00af00\">0</span> (0.00 B)\n",
              "</pre>\n"
            ],
            "text/plain": [
              "\u001b[1m Non-trainable params: \u001b[0m\u001b[38;5;34m0\u001b[0m (0.00 B)\n"
            ]
          },
          "metadata": {},
          "output_type": "display_data"
        }
      ],
      "source": [
        "model = FashionDNN()\n",
        "model.summary()\n",
        "_ = model(tf.zeros((1, 420)))  # build weights lazily\n",
        "model.summary()"
      ]
    },
    {
      "cell_type": "code",
      "execution_count": 10,
      "metadata": {
        "id": "QCiszHBz1j6S"
      },
      "outputs": [],
      "source": [
        "small_model = FashionDNN([64, 32])\n",
        "big_model   = FashionDNN([256, 256, 128,63,31])"
      ]
    },
    {
      "cell_type": "code",
      "execution_count": 11,
      "metadata": {
        "id": "2A_pFxa80xF8"
      },
      "outputs": [
        {
          "name": "stdout",
          "output_type": "stream",
          "text": [
            "Training Smaller model\n",
            "Epoch 1/5\n",
            "<class 'keras.src.utils.tracking.TrackedList'> 2\n",
            "<class 'keras.src.utils.tracking.TrackedList'> 2\n",
            "<class 'keras.src.utils.tracking.TrackedList'> 2\n",
            "\u001b[1m1483/1500\u001b[0m \u001b[32m━━━━━━━━━━━━━━━━━━━\u001b[0m\u001b[37m━\u001b[0m \u001b[1m0s\u001b[0m 2ms/step - accuracy: 0.6065 - loss: 1.2011<class 'keras.src.utils.tracking.TrackedList'> 2\n",
            "\u001b[1m1500/1500\u001b[0m \u001b[32m━━━━━━━━━━━━━━━━━━━━\u001b[0m\u001b[37m\u001b[0m \u001b[1m4s\u001b[0m 3ms/step - accuracy: 0.7207 - loss: 0.8423 - val_accuracy: 0.8083 - val_loss: 0.5664\n",
            "Epoch 2/5\n",
            "\u001b[1m1500/1500\u001b[0m \u001b[32m━━━━━━━━━━━━━━━━━━━━\u001b[0m\u001b[37m\u001b[0m \u001b[1m3s\u001b[0m 2ms/step - accuracy: 0.8198 - loss: 0.5291 - val_accuracy: 0.8296 - val_loss: 0.4873\n",
            "Epoch 3/5\n",
            "\u001b[1m1500/1500\u001b[0m \u001b[32m━━━━━━━━━━━━━━━━━━━━\u001b[0m\u001b[37m\u001b[0m \u001b[1m3s\u001b[0m 2ms/step - accuracy: 0.8348 - loss: 0.4759 - val_accuracy: 0.8364 - val_loss: 0.4662\n",
            "Epoch 4/5\n",
            "\u001b[1m1500/1500\u001b[0m \u001b[32m━━━━━━━━━━━━━━━━━━━━\u001b[0m\u001b[37m\u001b[0m \u001b[1m6s\u001b[0m 4ms/step - accuracy: 0.8436 - loss: 0.4471 - val_accuracy: 0.8447 - val_loss: 0.4471\n",
            "Epoch 5/5\n",
            "\u001b[1m1500/1500\u001b[0m \u001b[32m━━━━━━━━━━━━━━━━━━━━\u001b[0m\u001b[37m\u001b[0m \u001b[1m6s\u001b[0m 4ms/step - accuracy: 0.8499 - loss: 0.4284 - val_accuracy: 0.8549 - val_loss: 0.4235\n",
            "Training Bigger model\n",
            "Epoch 1/5\n",
            "<class 'keras.src.utils.tracking.TrackedList'> 5\n",
            "<class 'keras.src.utils.tracking.TrackedList'> 5\n",
            "<class 'keras.src.utils.tracking.TrackedList'> 5\n",
            "\u001b[1m1492/1500\u001b[0m \u001b[32m━━━━━━━━━━━━━━━━━━━\u001b[0m\u001b[37m━\u001b[0m \u001b[1m0s\u001b[0m 3ms/step - accuracy: 0.5647 - loss: 1.2543<class 'keras.src.utils.tracking.TrackedList'> 5\n",
            "\u001b[1m1500/1500\u001b[0m \u001b[32m━━━━━━━━━━━━━━━━━━━━\u001b[0m\u001b[37m\u001b[0m \u001b[1m6s\u001b[0m 4ms/step - accuracy: 0.6958 - loss: 0.8650 - val_accuracy: 0.7977 - val_loss: 0.5764\n",
            "Epoch 2/5\n",
            "\u001b[1m1500/1500\u001b[0m \u001b[32m━━━━━━━━━━━━━━━━━━━━\u001b[0m\u001b[37m\u001b[0m \u001b[1m5s\u001b[0m 3ms/step - accuracy: 0.8230 - loss: 0.5034 - val_accuracy: 0.8247 - val_loss: 0.4900\n",
            "Epoch 3/5\n",
            "\u001b[1m1500/1500\u001b[0m \u001b[32m━━━━━━━━━━━━━━━━━━━━\u001b[0m\u001b[37m\u001b[0m \u001b[1m6s\u001b[0m 4ms/step - accuracy: 0.8452 - loss: 0.4408 - val_accuracy: 0.8493 - val_loss: 0.4243\n",
            "Epoch 4/5\n",
            "\u001b[1m1500/1500\u001b[0m \u001b[32m━━━━━━━━━━━━━━━━━━━━\u001b[0m\u001b[37m\u001b[0m \u001b[1m6s\u001b[0m 4ms/step - accuracy: 0.8572 - loss: 0.4039 - val_accuracy: 0.8509 - val_loss: 0.4251\n",
            "Epoch 5/5\n",
            "\u001b[1m1500/1500\u001b[0m \u001b[32m━━━━━━━━━━━━━━━━━━━━\u001b[0m\u001b[37m\u001b[0m \u001b[1m5s\u001b[0m 4ms/step - accuracy: 0.8649 - loss: 0.3794 - val_accuracy: 0.8658 - val_loss: 0.3854\n"
          ]
        }
      ],
      "source": [
        "small_model.compile(optimizer='SGD',\n",
        "              loss='sparse_categorical_crossentropy',\n",
        "              metrics=['accuracy'])\n",
        "print(\"Training Smaller model\")\n",
        "history_small = small_model.fit(x_train, y_train,\n",
        "                    epochs=5,\n",
        "                    batch_size=32,\n",
        "                    validation_split=0.2)\n",
        "\n",
        "big_model.compile(optimizer='SGD',\n",
        "              loss='sparse_categorical_crossentropy',\n",
        "              metrics=['accuracy'])\n",
        "\n",
        "print(\"Training Bigger model\")\n",
        "history_big = big_model.fit(x_train, y_train,\n",
        "                    epochs=5,\n",
        "                    batch_size=32,\n",
        "                    validation_split=0.2)"
      ]
    },
    {
      "cell_type": "code",
      "execution_count": 12,
      "metadata": {
        "id": "SE4HFwVh183g"
      },
      "outputs": [
        {
          "name": "stdout",
          "output_type": "stream",
          "text": [
            "<class 'keras.src.utils.tracking.TrackedList'> 2\n",
            "<class 'keras.src.utils.tracking.TrackedList'> 2\n",
            "<class 'keras.src.utils.tracking.TrackedList'> 2\n",
            "<class 'keras.src.utils.tracking.TrackedList'> 2\n",
            "Epoch 1: loss=0.5795, max_grad_norm=1.784\n",
            "Epoch 2: loss=0.2234, max_grad_norm=1.153\n",
            "Epoch 3: loss=0.3953, max_grad_norm=1.088\n",
            "[<Variable path=fashion_dnn_5/dense_18/kernel, shape=(784, 128), dtype=float32, value=[[-4.19931933e-02  8.01936388e-02 -6.94431216e-02 ...  1.70232654e-01\n",
            "   8.44222158e-02  1.10026002e-01]\n",
            " [ 7.69934729e-02 -1.30562838e-02  8.93495828e-02 ... -8.59177560e-02\n",
            "   3.79955135e-02  1.29084475e-02]\n",
            " [ 4.26593516e-03  4.45280075e-02  1.23610225e-04 ...  9.83870123e-03\n",
            "  -1.00931823e-01 -4.32318561e-02]\n",
            " ...\n",
            " [ 5.21284826e-02  1.32717833e-01 -8.16110075e-02 ...  4.20575440e-02\n",
            "   6.43508285e-02 -1.03844339e-02]\n",
            " [ 5.49644195e-02  4.47954498e-02  1.16795585e-01 ...  7.35944882e-03\n",
            "   1.89829115e-02  1.22108012e-01]\n",
            " [ 9.24022272e-02  1.07272759e-01 -2.09652726e-02 ...  2.12650999e-01\n",
            "  -6.07309565e-02 -6.24155439e-02]]>, <Variable path=fashion_dnn_5/dense_18/bias, shape=(128,), dtype=float32, value=[-0.04170566  0.10346307  0.03491497  0.10214815 -0.01407495 -0.02071111\n",
            "  0.19098462  0.1167649   0.01780602 -0.01461006  0.0615055   0.04019169\n",
            "  0.15293095  0.09451065  0.14938386  0.01365046 -0.2791144   0.16042274\n",
            "  0.11751856  0.20211875  0.12547983  0.22453743  0.10691322  0.2864022\n",
            "  0.07537381  0.02281514  0.20099953  0.14780018  0.16523309  0.17827974\n",
            "  0.01825872  0.07392732  0.16071185 -0.01915101 -0.19474855 -0.14101511\n",
            " -0.12503912  0.08039296  0.17670175  0.18097469  0.01362697  0.06923272\n",
            " -0.01360628 -0.01062972 -0.1809172   0.10966367 -0.01835992  0.09195421\n",
            "  0.14916654 -0.03592687  0.1372307  -0.01113718  0.21223012  0.146443\n",
            "  0.10530289  0.01670722  0.03281065  0.21553154  0.2873701   0.07974367\n",
            "  0.16814774 -0.0122053  -0.07295564  0.12235299  0.20866871  0.16509196\n",
            " -0.05208184 -0.00359099 -0.01319665  0.07807541 -0.04504399  0.14288059\n",
            "  0.18479496 -0.00135864  0.16320571  0.1243078   0.08682147  0.09838899\n",
            "  0.25872368  0.15281889 -0.010095   -0.00931836 -0.01638987 -0.15307353\n",
            "  0.1521584  -0.13268787  0.13680325 -0.14404316 -0.08018357  0.01441094\n",
            "  0.12328292  0.17960621 -0.00998559  0.10931877  0.20703873  0.11661864\n",
            "  0.20572726  0.00103238  0.2977852   0.07492334  0.04112273  0.1619836\n",
            "  0.10766156  0.10631407 -0.16651927  0.23694786 -0.01212956 -0.03322616\n",
            "  0.06883591  0.13108638 -0.00382682  0.04151725  0.19122049 -0.01334945\n",
            " -0.12851511 -0.04828352 -0.01168812  0.12308714 -0.07802813  0.24402012\n",
            " -0.11864708  0.04312893  0.06731427  0.2077526  -0.11133737  0.13516232\n",
            " -0.02154066  0.05163386]>, <Variable path=fashion_dnn_5/dense_19/kernel, shape=(128, 64), dtype=float32, value=[[ 0.10010955  0.06028752 -0.06241297 ...  0.13225357  0.15846835\n",
            "   0.09396543]\n",
            " [-0.15380381 -0.0769091   0.15048248 ... -0.12466225 -0.02518242\n",
            "   0.09307292]\n",
            " [ 0.06405684  0.13064034  0.0289357  ...  0.04261447 -0.10729361\n",
            "  -0.11323941]\n",
            " ...\n",
            " [-0.02263464 -0.11443667 -0.14610021 ... -0.03406734 -0.14547017\n",
            "   0.04358978]\n",
            " [-0.10806932  0.05083172  0.00487523 ...  0.1170973   0.14598413\n",
            "  -0.21814302]\n",
            " [ 0.01743236 -0.09890354  0.1273582  ... -0.16422364  0.10276917\n",
            "   0.03655652]]>, <Variable path=fashion_dnn_5/dense_19/bias, shape=(64,), dtype=float32, value=[-5.81913553e-02 -3.42668477e-03  2.59888887e-01 -7.62631074e-02\n",
            "  3.81968566e-05  2.16266274e-01  9.95171145e-02 -1.43228903e-01\n",
            "  1.16408980e-02  8.39243010e-02  1.54523268e-01  4.76838760e-02\n",
            "  7.71565959e-02  1.01308480e-01  9.06525403e-02  1.28655899e-02\n",
            "  3.53804678e-02  1.51869506e-01  2.26255789e-01 -4.34303358e-02\n",
            "  9.36145857e-02  9.86657515e-02  2.10033312e-01  1.66942134e-01\n",
            "  1.09037705e-01  1.77971404e-02  1.66348740e-02 -1.92730367e-01\n",
            "  7.68435374e-02 -1.45181209e-01  6.56477362e-02  1.81312680e-01\n",
            "  1.59988776e-01  1.84603095e-01  1.30172044e-01  8.50302428e-02\n",
            " -4.97661605e-02 -3.45211737e-02  4.46143618e-04  3.61855961e-02\n",
            "  1.20005444e-01 -1.64615866e-02  8.99357721e-02  6.47677705e-02\n",
            "  1.74447466e-02  2.16280401e-01 -2.84413397e-02 -2.38916874e-02\n",
            " -2.05250997e-02  4.85493615e-03 -6.74607558e-03 -8.48044381e-02\n",
            " -7.39120990e-02  2.16233343e-01  2.08506346e-01  1.42770678e-01\n",
            "  1.78172946e-01  1.01905741e-01 -9.98079926e-02  1.71609484e-02\n",
            "  1.25654981e-01 -5.88771664e-02  1.16424978e-01  1.52324274e-01]>, <Variable path=fashion_dnn_5/dense_20/kernel, shape=(64, 10), dtype=float32, value=[[ 2.23280191e-01  1.42764807e-01  2.52391607e-01 -1.92248136e-01\n",
            "   1.58688024e-01 -2.06412360e-01  1.35053471e-01 -7.75763253e-03\n",
            "  -2.23193079e-01  2.92036206e-01]\n",
            " [ 2.15977207e-01  3.18267256e-01  9.38716456e-02 -1.22108601e-01\n",
            "   2.96906643e-02 -2.48584762e-01 -2.30356641e-02  1.82958856e-01\n",
            "  -1.75458297e-01 -6.42532632e-02]\n",
            " [-1.24924175e-01 -2.73962677e-01 -2.28046075e-01 -3.04220378e-01\n",
            "  -4.63994473e-01  1.41242340e-01 -3.07072520e-01  7.33277649e-02\n",
            "  -1.16908483e-01 -3.00247580e-01]\n",
            " [ 1.20055974e-02 -2.12814212e-01 -5.56982420e-02 -2.16074467e-01\n",
            "   1.32489055e-01 -2.40689740e-01  1.39524937e-01 -1.08313344e-01\n",
            "  -9.04175639e-02  1.28723860e-01]\n",
            " [-7.74392784e-02  1.09928608e-01  1.08460821e-02  4.30775359e-02\n",
            "   7.35304803e-02 -7.46038258e-02  9.17329416e-02 -3.85254502e-01\n",
            "   2.93361843e-01 -4.30374384e-01]\n",
            " [ 1.11897334e-01 -2.65213639e-01  1.21963069e-01  1.68218762e-01\n",
            "  -1.39454901e-01 -7.74161611e-03  7.72346109e-02  2.70592724e-03\n",
            "  -1.27759680e-01  3.07178441e-02]\n",
            " [-2.23866373e-01  9.15649310e-02 -2.17079580e-01  2.46633813e-01\n",
            "  -2.15157658e-01  1.14952728e-01 -2.96293527e-01 -2.36374468e-01\n",
            "  -6.34181052e-02 -1.04422897e-01]\n",
            " [ 1.05692886e-01  2.81811565e-01 -2.56724089e-01 -1.95846543e-01\n",
            "  -2.77268793e-02  2.63004185e-04  6.26146421e-02 -2.04317093e-01\n",
            "   3.32130313e-01  2.70773619e-01]\n",
            " [ 1.20819397e-01 -1.43408388e-01 -2.60161281e-01 -6.12201989e-02\n",
            "   9.96063743e-03 -1.44717380e-01 -2.22111374e-01 -2.30629355e-01\n",
            "   2.97128469e-01 -3.04067601e-02]\n",
            " [-1.80381045e-01 -3.22700948e-01  1.81465641e-01  1.08813457e-01\n",
            "  -2.44478926e-01  3.91493738e-02  2.44054347e-01 -2.43602186e-01\n",
            "  -1.15660243e-01  2.67688960e-01]\n",
            " [-1.35241315e-01 -1.19178466e-01  2.49168217e-01 -2.01514721e-01\n",
            "  -2.11657479e-01  2.60307223e-01  1.90868035e-01  2.02727258e-01\n",
            "   2.22407490e-01  1.65475577e-01]\n",
            " [ 8.76982659e-02 -5.30736089e-01  1.58386037e-01 -3.22417617e-01\n",
            "   1.93830729e-01  2.35128552e-01 -2.72615254e-01 -5.93687110e-02\n",
            "  -3.57973017e-02 -1.06959507e-01]\n",
            " [-1.33128166e-01 -1.21697672e-01  2.28722200e-01  1.42753482e-01\n",
            "   2.13107049e-01  3.24617908e-03  2.36331567e-01 -2.89889216e-01\n",
            "   5.38084842e-02 -4.79574412e-01]\n",
            " [ 2.95546353e-01 -2.68118888e-01  1.02892362e-01  4.74021677e-03\n",
            "   1.33133546e-01 -2.91778713e-01  1.69366732e-01 -2.26291478e-01\n",
            "  -1.13094486e-01  1.63868722e-02]\n",
            " [ 1.36597291e-01  3.54358577e-03  2.62552351e-01 -2.67833352e-01\n",
            "  -3.25100049e-02 -4.23863500e-01  1.20682441e-01 -4.98945326e-01\n",
            "  -2.08931953e-01 -1.12059034e-01]\n",
            " [-3.82752329e-01  7.85650536e-02  4.75293137e-02 -2.66562879e-01\n",
            "   1.55607000e-01 -8.75791967e-01  1.04389846e-01 -6.64459109e-01\n",
            "  -4.63250905e-01 -5.37195146e-01]\n",
            " [ 2.26086780e-01 -2.03184560e-01  2.41748273e-01  7.96371028e-02\n",
            "   1.57809779e-01 -3.57852250e-01 -2.43605375e-01 -2.59581814e-03\n",
            "   1.19190067e-02 -3.88949931e-01]\n",
            " [-1.13001484e-02  3.51472497e-01  1.62199184e-01 -2.08626851e-01\n",
            "  -1.71141043e-01  3.76213014e-01 -3.10421325e-02  1.08605690e-01\n",
            "  -2.45628610e-01 -1.63192805e-02]\n",
            " [-3.43865812e-01 -4.47444439e-01  1.36588805e-03 -3.26654255e-01\n",
            "  -5.09705544e-02  1.40817523e-01 -1.11202888e-01  1.72008723e-01\n",
            "   2.56328881e-01 -2.58971810e-01]\n",
            " [ 2.42935374e-01 -1.55430123e-01  1.32071882e-01  9.56621021e-02\n",
            "   1.90769970e-01 -1.28067225e-01 -2.17031568e-01 -4.76120375e-02\n",
            "  -6.01654314e-03 -4.57493495e-03]\n",
            " [ 2.73513645e-01  7.57281408e-02 -6.58075586e-02  5.70657216e-02\n",
            "  -2.02394892e-02 -1.71381041e-01  9.60492268e-02  1.11019373e-01\n",
            "   2.02030137e-01 -1.11873843e-01]\n",
            " [ 2.64210582e-01  2.03325793e-01 -2.39819080e-01 -1.53954953e-01\n",
            "  -4.77627277e-01 -2.70082001e-02 -3.65194641e-02 -4.25305724e-01\n",
            "  -8.95777717e-03  1.02917142e-01]\n",
            " [ 3.47828530e-02 -3.23574454e-01  2.13907823e-01 -9.96474624e-02\n",
            "   1.04573071e-01  9.90518853e-02  2.12288126e-01  1.77995756e-01\n",
            "  -2.22297445e-01 -1.51481822e-01]\n",
            " [ 1.28795788e-01 -2.90191412e-01 -9.70706120e-02 -2.49256805e-01\n",
            "  -2.20974401e-01  3.26309800e-02  1.56817943e-01  2.35652804e-01\n",
            "   3.00965428e-01 -1.74576730e-01]\n",
            " [ 3.69387977e-02  8.36427603e-03 -6.70278072e-02  5.79146557e-02\n",
            "   1.22032538e-01  3.94211859e-01 -2.76021481e-01 -1.50021940e-01\n",
            "   3.17044944e-01 -2.44755685e-01]\n",
            " [-2.36287281e-01 -2.23832369e-01 -1.22419320e-01  2.96816021e-01\n",
            "  -3.51490863e-02 -1.86920404e-01 -8.22337121e-02 -4.70642447e-02\n",
            "   1.63520545e-01  1.69528857e-01]\n",
            " [ 1.67595655e-01 -1.57036901e-01 -3.14675122e-01 -2.15534121e-01\n",
            "   2.68436521e-01  2.48617515e-01 -3.62370938e-01 -2.82873392e-01\n",
            "  -2.83077687e-01  6.72490336e-03]\n",
            " [ 3.85355093e-02  5.90890273e-02  4.58740257e-02 -2.76013851e-01\n",
            "   2.03504771e-01 -1.59920782e-01 -4.63549271e-02  3.12664270e-01\n",
            "   3.27572405e-01  2.92305082e-01]\n",
            " [-1.98811460e-02 -3.04621041e-01  1.16127953e-02 -3.18544775e-01\n",
            "  -4.73636061e-01  3.53847682e-01  1.89573973e-01 -4.39352721e-01\n",
            "  -8.34146291e-02  8.76915529e-02]\n",
            " [-3.46621543e-01  5.58358788e-01 -2.56142616e-01 -1.58130765e-01\n",
            "  -1.04480177e-01 -2.37020135e-01 -7.41742775e-02 -1.45582736e-01\n",
            "  -3.15691382e-01 -3.73603582e-01]\n",
            " [ 8.11091438e-02 -2.85376519e-01  2.59713233e-01 -3.12150091e-01\n",
            "   2.83350140e-01  3.06483498e-03 -1.30059555e-01  2.47826487e-01\n",
            "  -3.43800008e-01 -4.58029769e-02]\n",
            " [-9.04244706e-02 -1.05174154e-01 -3.59660745e-01  3.13862950e-01\n",
            "  -3.78634036e-01 -3.21491987e-01  6.04740530e-02 -4.45172012e-01\n",
            "  -2.20833272e-01 -2.21823558e-01]\n",
            " [ 2.37644203e-02 -1.35194033e-01  1.40356988e-01 -6.39935881e-02\n",
            "  -1.87587708e-01  2.68801868e-01 -1.45657882e-02 -2.03656241e-01\n",
            "  -2.16663733e-01 -7.55975544e-02]\n",
            " [-5.03384657e-02 -4.16129008e-02 -3.38085771e-01 -3.03801149e-01\n",
            "  -3.18577051e-01  2.25948974e-01 -4.98214783e-03  2.92883217e-01\n",
            "  -1.21017076e-01 -2.29150057e-01]\n",
            " [ 1.60852194e-01  2.34121785e-01 -2.09321350e-01 -3.45125869e-02\n",
            "  -3.18980008e-01  3.03282410e-01  9.48079824e-02 -7.09668472e-02\n",
            "   3.05087030e-01 -3.31943631e-01]\n",
            " [-1.81891695e-02 -2.15801239e-01  2.14337349e-01 -8.20262134e-02\n",
            "  -1.95288628e-01  1.42158628e-01 -1.85664624e-01  5.97712547e-02\n",
            "   1.37629598e-01  9.08681527e-02]\n",
            " [-1.76441327e-01  4.82972711e-02  1.96560428e-01 -3.86788845e-02\n",
            "   5.10010831e-02 -2.18542330e-02 -5.17611916e-04 -2.89460838e-01\n",
            "   2.81545222e-01 -1.00009501e-01]\n",
            " [-7.11146891e-02  9.76556018e-02  2.40952045e-01 -1.84383795e-01\n",
            "  -3.30858193e-02 -1.73151329e-01 -4.81732227e-02  1.10573333e-03\n",
            "   3.29543054e-01 -1.04147062e-01]\n",
            " [-3.41943502e-02 -2.66174555e-01 -9.87036526e-03 -3.61619830e-01\n",
            "   1.33579731e-01  1.16020054e-01  8.83264467e-02  3.28671038e-02\n",
            "  -2.44831651e-01  1.56865820e-01]\n",
            " [-3.16726089e-01  9.82592255e-02 -2.93068886e-01 -2.11911544e-01\n",
            "  -2.24312097e-01 -3.46186727e-01 -2.67549813e-01  3.04687291e-01\n",
            "  -1.48741931e-01 -7.52277747e-02]\n",
            " [ 1.40807852e-02  6.34385571e-02  1.57171294e-01  2.66069323e-01\n",
            "   9.67057794e-02  1.05636328e-01 -2.74836477e-02 -2.22312585e-01\n",
            "  -2.75521845e-01 -1.93349659e-01]\n",
            " [-6.87212944e-02  1.97510496e-02  1.23642728e-01  5.36475703e-02\n",
            "   2.50749052e-01  2.17991129e-01  2.54745096e-01 -2.44645536e-01\n",
            "  -2.67399818e-01  4.33572009e-02]\n",
            " [-2.36246884e-01  3.47742230e-01  7.48001188e-02  1.26038566e-01\n",
            "  -1.24484628e-01 -5.80022514e-01 -7.48362541e-02 -4.85724062e-01\n",
            "  -6.81884363e-02  3.05759143e-02]\n",
            " [-1.70853451e-01 -2.03844726e-01 -3.74512076e-01 -3.71743262e-01\n",
            "  -1.54725447e-01  2.83515036e-01  4.18725051e-02  3.57471555e-02\n",
            "  -1.90332577e-01  1.65197596e-01]\n",
            " [ 4.24113423e-02 -1.71804562e-01 -6.72533065e-02 -1.28261512e-02\n",
            "   2.75954992e-01  2.47086048e-01  1.93830460e-01  3.65834311e-02\n",
            "  -1.91105276e-01 -5.86477704e-02]\n",
            " [-3.05726171e-01 -1.07730657e-01 -9.98438895e-02  1.42773315e-01\n",
            "  -7.52075464e-02  3.26031893e-01 -4.89692956e-01  2.31273666e-01\n",
            "  -3.42802227e-01  1.45416826e-01]\n",
            " [ 2.41314426e-01  3.36285889e-01 -2.39860773e-01  4.09777202e-02\n",
            "   2.73217350e-01 -5.71793795e-01  1.19500890e-01 -4.84559655e-01\n",
            "  -1.32567078e-01 -2.04863444e-01]\n",
            " [-1.12463266e-01 -2.88053274e-01 -3.12214904e-02  1.90899253e-01\n",
            "   2.41709560e-01 -3.93944174e-01  4.11136337e-02 -3.24820936e-01\n",
            "   1.96369275e-01 -4.14487749e-01]\n",
            " [-9.34326500e-02 -3.02213281e-01 -2.23623678e-01 -2.80387193e-01\n",
            "  -5.20512015e-02  2.22974181e-01 -1.38894811e-01 -2.26979852e-01\n",
            "   2.31316358e-01 -3.09950020e-02]\n",
            " [ 6.87200129e-02  2.56802052e-01  2.24122420e-01 -1.93785086e-01\n",
            "   2.57028379e-02  7.39601552e-02 -2.81911045e-01 -3.49188715e-01\n",
            "  -2.44129166e-01 -2.90013075e-01]\n",
            " [ 3.99346882e-03 -7.04622567e-02 -2.74416953e-01  6.25649691e-02\n",
            "  -2.22639933e-01 -4.49677780e-02 -2.85097092e-01  4.79585268e-02\n",
            "   1.66636214e-01  2.18860656e-01]\n",
            " [-9.16912705e-02 -3.09132457e-01 -1.07854187e-01 -1.00422233e-01\n",
            "   2.24261403e-01 -4.03504297e-02  1.40298828e-01  2.02835053e-01\n",
            "  -2.75652647e-01  2.51141131e-01]\n",
            " [-1.42045766e-01  2.74703324e-01 -5.90031454e-03  2.29998648e-01\n",
            "   2.03676850e-01  1.48107931e-01  3.07128904e-03 -1.20349266e-01\n",
            "   3.35872084e-01  8.54071602e-02]\n",
            " [ 7.96348900e-02 -1.59176886e-01 -3.83878946e-01  1.43427625e-01\n",
            "   2.59422779e-01  2.20005438e-02  8.64337906e-02  2.18756378e-01\n",
            "  -2.12152436e-01 -2.50988960e-01]\n",
            " [-2.79814303e-01 -4.78840292e-01 -5.04334152e-01 -2.28538722e-01\n",
            "   6.72014430e-02  3.52437794e-01  3.51788729e-01 -9.24678221e-02\n",
            "   1.32145673e-01  5.89092895e-02]\n",
            " [-2.61170268e-01 -2.48025879e-01 -4.06494662e-02 -1.96098000e-01\n",
            "  -2.46663436e-01 -4.44511324e-02  5.45386076e-02  2.18812048e-01\n",
            "  -1.33327916e-01 -1.33596227e-01]\n",
            " [ 8.33121762e-02  9.44540575e-02 -1.57317251e-01  5.20911589e-02\n",
            "  -2.06518471e-01 -2.46260434e-01  9.57330540e-02 -1.60007641e-01\n",
            "  -1.77191809e-01 -4.50818479e-01]\n",
            " [ 1.95564017e-01 -2.70800859e-01 -1.21371381e-01 -2.83533663e-01\n",
            "  -3.54979485e-01  9.80245844e-02 -3.22218031e-01 -1.70451880e-01\n",
            "  -3.15950006e-01  8.09764769e-03]\n",
            " [-2.65440464e-01  3.90707999e-01 -4.05712962e-01 -1.56286463e-01\n",
            "   8.29626620e-02 -3.12883049e-01  8.48458335e-02  2.58385897e-01\n",
            "  -2.84772128e-01  1.59412414e-01]\n",
            " [-3.72883081e-02 -2.52613604e-01 -1.31952763e-02  2.05249444e-01\n",
            "   2.51079768e-01  1.53349847e-01  2.28365228e-01 -6.81314850e-04\n",
            "   2.14104980e-01 -1.06077522e-01]\n",
            " [ 2.53431469e-01 -2.89732218e-01 -1.83236718e-01  2.40447521e-01\n",
            "   6.74947798e-02  1.33670434e-01  1.62638530e-01  7.13316053e-02\n",
            "  -9.36235785e-02  8.67496207e-02]\n",
            " [-2.82602459e-01  8.19673687e-02  2.48267755e-01  2.62554973e-01\n",
            "   2.19465405e-01 -6.53532445e-02 -2.16735274e-01 -2.18294606e-01\n",
            "  -2.38930002e-01  2.48616055e-01]\n",
            " [ 3.70298326e-01 -5.49010098e-01  1.92823052e-01  2.48331414e-03\n",
            "   6.36756867e-02 -6.13969028e-01 -2.22064719e-01 -8.39055598e-01\n",
            "  -1.43503442e-01 -3.72100145e-01]\n",
            " [ 1.01089448e-01 -1.89573243e-01 -7.90148694e-03  1.08342618e-01\n",
            "   2.77433917e-02 -2.86823720e-01  3.05289894e-01 -4.96916503e-01\n",
            "   4.96431515e-02 -2.12962613e-01]]>, <Variable path=fashion_dnn_5/dense_20/bias, shape=(10,), dtype=float32, value=[ 0.08563417 -0.11540528  0.04054596  0.13297608 -0.16677438  0.10802021\n",
            "  0.03203511  0.07819331 -0.10120414 -0.18336496]>]\n"
          ]
        }
      ],
      "source": [
        "train_ds = (tf.data.Dataset\n",
        "            .from_tensor_slices((x_train, y_train))\n",
        "            .shuffle(10000).batch(64).prefetch(tf.data.AUTOTUNE))\n",
        "\n",
        "model = FashionDNN()\n",
        "loss_fn = tf.keras.losses.SparseCategoricalCrossentropy()\n",
        "opt = tf.keras.optimizers.Adam()\n",
        "\n",
        "\n",
        "@tf.function\n",
        "def train_step(x, y):\n",
        "    with tf.GradientTape() as tape:\n",
        "        preds = model(x, training=True)\n",
        "        loss = loss_fn(y, preds)\n",
        "    grads = tape.gradient(loss, model.trainable_variables)\n",
        "    opt.apply_gradients(zip(grads, model.trainable_variables))\n",
        "    return loss, [tf.norm(g) for g in grads if g is not None]\n",
        "\n",
        "for epoch in range(3):\n",
        "    for xb, yb in train_ds:\n",
        "        loss, gnorms = train_step(xb, yb)\n",
        "    print(f\"Epoch {epoch+1}: loss={loss.numpy():.4f}, max_grad_norm={max([n.numpy() for n in gnorms]):.3f}\")\n",
        "\n",
        "print(model.trainable_variables)"
      ]
    },
    {
      "cell_type": "markdown",
      "metadata": {
        "id": "devFdIRY8kJ0"
      },
      "source": [
        "    kernel_initializer=initializers.RandomNormal(stddev=0.01),\n",
        "    bias_initializer=initializers.Zeros()"
      ]
    },
    {
      "cell_type": "code",
      "execution_count": 13,
      "metadata": {},
      "outputs": [],
      "source": [
        "kernel_initializer=initializers.RandomNormal(stddev=0.01),\n",
        "bias_initializer=initializers.Zeros()"
      ]
    },
    {
      "cell_type": "code",
      "execution_count": 14,
      "metadata": {
        "id": "BgoLVGJi6SDs"
      },
      "outputs": [],
      "source": [
        "class FashionDNN(tf.keras.Model):\n",
        "    def __init__(self, hidden_units=[128, 64], num_classes=10):\n",
        "        super().__init__()\n",
        "        self.hidden = [\n",
        "            layers.Dense(units, activation='relu',\n",
        "                         kernel_initializer=initializers.HeNormal())\n",
        "            for units in hidden_units\n",
        "        ]\n",
        "        self.dropout = layers.Dropout(0.3)\n",
        "        self.out = layers.Dense(num_classes, activation='softmax',\n",
        "                                kernel_initializer=initializers.GlorotUniform())\n",
        "\n",
        "    def call(self, x, training=False):\n",
        "        for h in self.hidden:\n",
        "            x = h(x)\n",
        "        if training:\n",
        "            x = self.dropout(x, training=training)\n",
        "        return self.out(x)\n"
      ]
    },
    {
      "cell_type": "markdown",
      "metadata": {
        "id": "uKfVZfSV8_vk"
      },
      "source": [
        "## Early Stopping\n"
      ]
    },
    {
      "cell_type": "code",
      "execution_count": 15,
      "metadata": {
        "id": "DoZUH1FN9Ce1"
      },
      "outputs": [
        {
          "name": "stdout",
          "output_type": "stream",
          "text": [
            "Epoch 1/20\n",
            "\u001b[1m1500/1500\u001b[0m \u001b[32m━━━━━━━━━━━━━━━━━━━━\u001b[0m\u001b[37m\u001b[0m \u001b[1m6s\u001b[0m 3ms/step - accuracy: 0.7923 - loss: 0.5908 - val_accuracy: 0.8433 - val_loss: 0.4214\n",
            "Epoch 2/20\n",
            "\u001b[1m1500/1500\u001b[0m \u001b[32m━━━━━━━━━━━━━━━━━━━━\u001b[0m\u001b[37m\u001b[0m \u001b[1m4s\u001b[0m 3ms/step - accuracy: 0.8471 - loss: 0.4243 - val_accuracy: 0.8538 - val_loss: 0.4022\n",
            "Epoch 3/20\n",
            "\u001b[1m1500/1500\u001b[0m \u001b[32m━━━━━━━━━━━━━━━━━━━━\u001b[0m\u001b[37m\u001b[0m \u001b[1m4s\u001b[0m 3ms/step - accuracy: 0.8602 - loss: 0.3829 - val_accuracy: 0.8733 - val_loss: 0.3509\n",
            "Epoch 4/20\n",
            "\u001b[1m1500/1500\u001b[0m \u001b[32m━━━━━━━━━━━━━━━━━━━━\u001b[0m\u001b[37m\u001b[0m \u001b[1m4s\u001b[0m 3ms/step - accuracy: 0.8705 - loss: 0.3561 - val_accuracy: 0.8713 - val_loss: 0.3476\n",
            "Epoch 5/20\n",
            "\u001b[1m1500/1500\u001b[0m \u001b[32m━━━━━━━━━━━━━━━━━━━━\u001b[0m\u001b[37m\u001b[0m \u001b[1m4s\u001b[0m 3ms/step - accuracy: 0.8779 - loss: 0.3352 - val_accuracy: 0.8806 - val_loss: 0.3220\n",
            "Epoch 6/20\n",
            "\u001b[1m1500/1500\u001b[0m \u001b[32m━━━━━━━━━━━━━━━━━━━━\u001b[0m\u001b[37m\u001b[0m \u001b[1m4s\u001b[0m 3ms/step - accuracy: 0.8825 - loss: 0.3181 - val_accuracy: 0.8721 - val_loss: 0.3480\n",
            "Epoch 7/20\n",
            "\u001b[1m1500/1500\u001b[0m \u001b[32m━━━━━━━━━━━━━━━━━━━━\u001b[0m\u001b[37m\u001b[0m \u001b[1m4s\u001b[0m 3ms/step - accuracy: 0.8882 - loss: 0.3056 - val_accuracy: 0.8786 - val_loss: 0.3328\n",
            "Epoch 8/20\n",
            "\u001b[1m1500/1500\u001b[0m \u001b[32m━━━━━━━━━━━━━━━━━━━━\u001b[0m\u001b[37m\u001b[0m \u001b[1m4s\u001b[0m 3ms/step - accuracy: 0.8915 - loss: 0.2940 - val_accuracy: 0.8816 - val_loss: 0.3268\n"
          ]
        }
      ],
      "source": [
        "model = FashionDNN()\n",
        "model.compile(optimizer='adam',\n",
        "              loss='sparse_categorical_crossentropy',\n",
        "              metrics=['accuracy'])\n",
        "\n",
        "early_stop = tf.keras.callbacks.EarlyStopping(\n",
        "    monitor='val_loss',\n",
        "    patience=3,            # stop after 3 epochs without improvement\n",
        "    restore_best_weights=True\n",
        ")\n",
        "\n",
        "history = model.fit(x_train, y_train,\n",
        "                    validation_split=0.2,\n",
        "                    epochs=20,\n",
        "                    batch_size=32,\n",
        "                    callbacks=[early_stop])"
      ]
    },
    {
      "cell_type": "markdown",
      "metadata": {
        "id": "9WkCUlaE9nqE"
      },
      "source": [
        "# Exercise\n",
        "\n",
        "Build two models with the same architecture (2 hidden layers: 128, 64 units, ReLU activations).\n",
        "- Model 1: Use RandomNormal(stddev=1.0) for kernel initializer.\n",
        "- Model 2: Use HeNormal() for kernel initializer and bias initializer\n",
        "\n",
        "Train both models on Fashion-MNIST for up to 100 epochs. Explore Early stopping and validation accuracy.\n",
        "\n",
        "1. Plot the training vs. validation accuracy curves.\n",
        "2. Compare: Which one converges faster? Which one gives better validation accuracy?\n",
        "3. Check the Gradient Flow to answer above question"
      ]
    },
    {
      "cell_type": "code",
      "execution_count": 16,
      "metadata": {
        "id": "sseedDyY9nKW"
      },
      "outputs": [
        {
          "name": "stdout",
          "output_type": "stream",
          "text": [
            "Setup complete. Plots will be saved in the 'plots/' directory.\n",
            "Loading and preprocessing Fashion MNIST dataset...\n",
            "Data preprocessing complete.\n",
            "\n",
            "--- Training and Comparing Models ---\n",
            "Model with RandomNormal(stddev=1.0) Initializer Summary:\n"
          ]
        },
        {
          "data": {
            "text/html": [
              "<pre style=\"white-space:pre;overflow-x:auto;line-height:normal;font-family:Menlo,'DejaVu Sans Mono',consolas,'Courier New',monospace\"><span style=\"font-weight: bold\">Model: \"sequential\"</span>\n",
              "</pre>\n"
            ],
            "text/plain": [
              "\u001b[1mModel: \"sequential\"\u001b[0m\n"
            ]
          },
          "metadata": {},
          "output_type": "display_data"
        },
        {
          "data": {
            "text/html": [
              "<pre style=\"white-space:pre;overflow-x:auto;line-height:normal;font-family:Menlo,'DejaVu Sans Mono',consolas,'Courier New',monospace\">┏━━━━━━━━━━━━━━━━━━━━━━━━━━━━━━━━━┳━━━━━━━━━━━━━━━━━━━━━━━━┳━━━━━━━━━━━━━━━┓\n",
              "┃<span style=\"font-weight: bold\"> Layer (type)                    </span>┃<span style=\"font-weight: bold\"> Output Shape           </span>┃<span style=\"font-weight: bold\">       Param # </span>┃\n",
              "┡━━━━━━━━━━━━━━━━━━━━━━━━━━━━━━━━━╇━━━━━━━━━━━━━━━━━━━━━━━━╇━━━━━━━━━━━━━━━┩\n",
              "│ dense_24 (<span style=\"color: #0087ff; text-decoration-color: #0087ff\">Dense</span>)                │ (<span style=\"color: #00d7ff; text-decoration-color: #00d7ff\">None</span>, <span style=\"color: #00af00; text-decoration-color: #00af00\">128</span>)            │       <span style=\"color: #00af00; text-decoration-color: #00af00\">100,480</span> │\n",
              "├─────────────────────────────────┼────────────────────────┼───────────────┤\n",
              "│ dense_25 (<span style=\"color: #0087ff; text-decoration-color: #0087ff\">Dense</span>)                │ (<span style=\"color: #00d7ff; text-decoration-color: #00d7ff\">None</span>, <span style=\"color: #00af00; text-decoration-color: #00af00\">64</span>)             │         <span style=\"color: #00af00; text-decoration-color: #00af00\">8,256</span> │\n",
              "├─────────────────────────────────┼────────────────────────┼───────────────┤\n",
              "│ dense_26 (<span style=\"color: #0087ff; text-decoration-color: #0087ff\">Dense</span>)                │ (<span style=\"color: #00d7ff; text-decoration-color: #00d7ff\">None</span>, <span style=\"color: #00af00; text-decoration-color: #00af00\">10</span>)             │           <span style=\"color: #00af00; text-decoration-color: #00af00\">650</span> │\n",
              "└─────────────────────────────────┴────────────────────────┴───────────────┘\n",
              "</pre>\n"
            ],
            "text/plain": [
              "┏━━━━━━━━━━━━━━━━━━━━━━━━━━━━━━━━━┳━━━━━━━━━━━━━━━━━━━━━━━━┳━━━━━━━━━━━━━━━┓\n",
              "┃\u001b[1m \u001b[0m\u001b[1mLayer (type)                   \u001b[0m\u001b[1m \u001b[0m┃\u001b[1m \u001b[0m\u001b[1mOutput Shape          \u001b[0m\u001b[1m \u001b[0m┃\u001b[1m \u001b[0m\u001b[1m      Param #\u001b[0m\u001b[1m \u001b[0m┃\n",
              "┡━━━━━━━━━━━━━━━━━━━━━━━━━━━━━━━━━╇━━━━━━━━━━━━━━━━━━━━━━━━╇━━━━━━━━━━━━━━━┩\n",
              "│ dense_24 (\u001b[38;5;33mDense\u001b[0m)                │ (\u001b[38;5;45mNone\u001b[0m, \u001b[38;5;34m128\u001b[0m)            │       \u001b[38;5;34m100,480\u001b[0m │\n",
              "├─────────────────────────────────┼────────────────────────┼───────────────┤\n",
              "│ dense_25 (\u001b[38;5;33mDense\u001b[0m)                │ (\u001b[38;5;45mNone\u001b[0m, \u001b[38;5;34m64\u001b[0m)             │         \u001b[38;5;34m8,256\u001b[0m │\n",
              "├─────────────────────────────────┼────────────────────────┼───────────────┤\n",
              "│ dense_26 (\u001b[38;5;33mDense\u001b[0m)                │ (\u001b[38;5;45mNone\u001b[0m, \u001b[38;5;34m10\u001b[0m)             │           \u001b[38;5;34m650\u001b[0m │\n",
              "└─────────────────────────────────┴────────────────────────┴───────────────┘\n"
            ]
          },
          "metadata": {},
          "output_type": "display_data"
        },
        {
          "data": {
            "text/html": [
              "<pre style=\"white-space:pre;overflow-x:auto;line-height:normal;font-family:Menlo,'DejaVu Sans Mono',consolas,'Courier New',monospace\"><span style=\"font-weight: bold\"> Total params: </span><span style=\"color: #00af00; text-decoration-color: #00af00\">109,386</span> (427.29 KB)\n",
              "</pre>\n"
            ],
            "text/plain": [
              "\u001b[1m Total params: \u001b[0m\u001b[38;5;34m109,386\u001b[0m (427.29 KB)\n"
            ]
          },
          "metadata": {},
          "output_type": "display_data"
        },
        {
          "data": {
            "text/html": [
              "<pre style=\"white-space:pre;overflow-x:auto;line-height:normal;font-family:Menlo,'DejaVu Sans Mono',consolas,'Courier New',monospace\"><span style=\"font-weight: bold\"> Trainable params: </span><span style=\"color: #00af00; text-decoration-color: #00af00\">109,386</span> (427.29 KB)\n",
              "</pre>\n"
            ],
            "text/plain": [
              "\u001b[1m Trainable params: \u001b[0m\u001b[38;5;34m109,386\u001b[0m (427.29 KB)\n"
            ]
          },
          "metadata": {},
          "output_type": "display_data"
        },
        {
          "data": {
            "text/html": [
              "<pre style=\"white-space:pre;overflow-x:auto;line-height:normal;font-family:Menlo,'DejaVu Sans Mono',consolas,'Courier New',monospace\"><span style=\"font-weight: bold\"> Non-trainable params: </span><span style=\"color: #00af00; text-decoration-color: #00af00\">0</span> (0.00 B)\n",
              "</pre>\n"
            ],
            "text/plain": [
              "\u001b[1m Non-trainable params: \u001b[0m\u001b[38;5;34m0\u001b[0m (0.00 B)\n"
            ]
          },
          "metadata": {},
          "output_type": "display_data"
        },
        {
          "name": "stdout",
          "output_type": "stream",
          "text": [
            "\n",
            "Model with HeNormal() Initializer Summary:\n"
          ]
        },
        {
          "data": {
            "text/html": [
              "<pre style=\"white-space:pre;overflow-x:auto;line-height:normal;font-family:Menlo,'DejaVu Sans Mono',consolas,'Courier New',monospace\"><span style=\"font-weight: bold\">Model: \"sequential_1\"</span>\n",
              "</pre>\n"
            ],
            "text/plain": [
              "\u001b[1mModel: \"sequential_1\"\u001b[0m\n"
            ]
          },
          "metadata": {},
          "output_type": "display_data"
        },
        {
          "data": {
            "text/html": [
              "<pre style=\"white-space:pre;overflow-x:auto;line-height:normal;font-family:Menlo,'DejaVu Sans Mono',consolas,'Courier New',monospace\">┏━━━━━━━━━━━━━━━━━━━━━━━━━━━━━━━━━┳━━━━━━━━━━━━━━━━━━━━━━━━┳━━━━━━━━━━━━━━━┓\n",
              "┃<span style=\"font-weight: bold\"> Layer (type)                    </span>┃<span style=\"font-weight: bold\"> Output Shape           </span>┃<span style=\"font-weight: bold\">       Param # </span>┃\n",
              "┡━━━━━━━━━━━━━━━━━━━━━━━━━━━━━━━━━╇━━━━━━━━━━━━━━━━━━━━━━━━╇━━━━━━━━━━━━━━━┩\n",
              "│ dense_27 (<span style=\"color: #0087ff; text-decoration-color: #0087ff\">Dense</span>)                │ (<span style=\"color: #00d7ff; text-decoration-color: #00d7ff\">None</span>, <span style=\"color: #00af00; text-decoration-color: #00af00\">128</span>)            │       <span style=\"color: #00af00; text-decoration-color: #00af00\">100,480</span> │\n",
              "├─────────────────────────────────┼────────────────────────┼───────────────┤\n",
              "│ dense_28 (<span style=\"color: #0087ff; text-decoration-color: #0087ff\">Dense</span>)                │ (<span style=\"color: #00d7ff; text-decoration-color: #00d7ff\">None</span>, <span style=\"color: #00af00; text-decoration-color: #00af00\">64</span>)             │         <span style=\"color: #00af00; text-decoration-color: #00af00\">8,256</span> │\n",
              "├─────────────────────────────────┼────────────────────────┼───────────────┤\n",
              "│ dense_29 (<span style=\"color: #0087ff; text-decoration-color: #0087ff\">Dense</span>)                │ (<span style=\"color: #00d7ff; text-decoration-color: #00d7ff\">None</span>, <span style=\"color: #00af00; text-decoration-color: #00af00\">10</span>)             │           <span style=\"color: #00af00; text-decoration-color: #00af00\">650</span> │\n",
              "└─────────────────────────────────┴────────────────────────┴───────────────┘\n",
              "</pre>\n"
            ],
            "text/plain": [
              "┏━━━━━━━━━━━━━━━━━━━━━━━━━━━━━━━━━┳━━━━━━━━━━━━━━━━━━━━━━━━┳━━━━━━━━━━━━━━━┓\n",
              "┃\u001b[1m \u001b[0m\u001b[1mLayer (type)                   \u001b[0m\u001b[1m \u001b[0m┃\u001b[1m \u001b[0m\u001b[1mOutput Shape          \u001b[0m\u001b[1m \u001b[0m┃\u001b[1m \u001b[0m\u001b[1m      Param #\u001b[0m\u001b[1m \u001b[0m┃\n",
              "┡━━━━━━━━━━━━━━━━━━━━━━━━━━━━━━━━━╇━━━━━━━━━━━━━━━━━━━━━━━━╇━━━━━━━━━━━━━━━┩\n",
              "│ dense_27 (\u001b[38;5;33mDense\u001b[0m)                │ (\u001b[38;5;45mNone\u001b[0m, \u001b[38;5;34m128\u001b[0m)            │       \u001b[38;5;34m100,480\u001b[0m │\n",
              "├─────────────────────────────────┼────────────────────────┼───────────────┤\n",
              "│ dense_28 (\u001b[38;5;33mDense\u001b[0m)                │ (\u001b[38;5;45mNone\u001b[0m, \u001b[38;5;34m64\u001b[0m)             │         \u001b[38;5;34m8,256\u001b[0m │\n",
              "├─────────────────────────────────┼────────────────────────┼───────────────┤\n",
              "│ dense_29 (\u001b[38;5;33mDense\u001b[0m)                │ (\u001b[38;5;45mNone\u001b[0m, \u001b[38;5;34m10\u001b[0m)             │           \u001b[38;5;34m650\u001b[0m │\n",
              "└─────────────────────────────────┴────────────────────────┴───────────────┘\n"
            ]
          },
          "metadata": {},
          "output_type": "display_data"
        },
        {
          "data": {
            "text/html": [
              "<pre style=\"white-space:pre;overflow-x:auto;line-height:normal;font-family:Menlo,'DejaVu Sans Mono',consolas,'Courier New',monospace\"><span style=\"font-weight: bold\"> Total params: </span><span style=\"color: #00af00; text-decoration-color: #00af00\">109,386</span> (427.29 KB)\n",
              "</pre>\n"
            ],
            "text/plain": [
              "\u001b[1m Total params: \u001b[0m\u001b[38;5;34m109,386\u001b[0m (427.29 KB)\n"
            ]
          },
          "metadata": {},
          "output_type": "display_data"
        },
        {
          "data": {
            "text/html": [
              "<pre style=\"white-space:pre;overflow-x:auto;line-height:normal;font-family:Menlo,'DejaVu Sans Mono',consolas,'Courier New',monospace\"><span style=\"font-weight: bold\"> Trainable params: </span><span style=\"color: #00af00; text-decoration-color: #00af00\">109,386</span> (427.29 KB)\n",
              "</pre>\n"
            ],
            "text/plain": [
              "\u001b[1m Trainable params: \u001b[0m\u001b[38;5;34m109,386\u001b[0m (427.29 KB)\n"
            ]
          },
          "metadata": {},
          "output_type": "display_data"
        },
        {
          "data": {
            "text/html": [
              "<pre style=\"white-space:pre;overflow-x:auto;line-height:normal;font-family:Menlo,'DejaVu Sans Mono',consolas,'Courier New',monospace\"><span style=\"font-weight: bold\"> Non-trainable params: </span><span style=\"color: #00af00; text-decoration-color: #00af00\">0</span> (0.00 B)\n",
              "</pre>\n"
            ],
            "text/plain": [
              "\u001b[1m Non-trainable params: \u001b[0m\u001b[38;5;34m0\u001b[0m (0.00 B)\n"
            ]
          },
          "metadata": {},
          "output_type": "display_data"
        },
        {
          "name": "stdout",
          "output_type": "stream",
          "text": [
            "\n",
            "Training Model 1 (RandomNormal)...\n",
            "Epoch 1/100\n",
            "750/750 - 4s - 5ms/step - accuracy: 0.6325 - loss: 11.7515 - val_accuracy: 0.7292 - val_loss: 3.4530\n",
            "Epoch 2/100\n",
            "750/750 - 3s - 4ms/step - accuracy: 0.7481 - loss: 2.4775 - val_accuracy: 0.7632 - val_loss: 1.8572\n",
            "Epoch 3/100\n",
            "750/750 - 2s - 3ms/step - accuracy: 0.7730 - loss: 1.4508 - val_accuracy: 0.7836 - val_loss: 1.2263\n",
            "Epoch 4/100\n",
            "750/750 - 3s - 4ms/step - accuracy: 0.7902 - loss: 0.9779 - val_accuracy: 0.7875 - val_loss: 0.9107\n",
            "Epoch 5/100\n",
            "750/750 - 3s - 4ms/step - accuracy: 0.7981 - loss: 0.7481 - val_accuracy: 0.7983 - val_loss: 0.7505\n",
            "Epoch 6/100\n",
            "750/750 - 5s - 7ms/step - accuracy: 0.8137 - loss: 0.6175 - val_accuracy: 0.8041 - val_loss: 0.6593\n",
            "Epoch 7/100\n",
            "750/750 - 3s - 4ms/step - accuracy: 0.8232 - loss: 0.5377 - val_accuracy: 0.7929 - val_loss: 0.6687\n",
            "Epoch 8/100\n",
            "750/750 - 3s - 4ms/step - accuracy: 0.8306 - loss: 0.4939 - val_accuracy: 0.8234 - val_loss: 0.5510\n",
            "Epoch 9/100\n",
            "750/750 - 3s - 4ms/step - accuracy: 0.8384 - loss: 0.4585 - val_accuracy: 0.8292 - val_loss: 0.5341\n",
            "Epoch 10/100\n",
            "750/750 - 3s - 4ms/step - accuracy: 0.8469 - loss: 0.4288 - val_accuracy: 0.8337 - val_loss: 0.5102\n",
            "Epoch 11/100\n",
            "750/750 - 3s - 4ms/step - accuracy: 0.8536 - loss: 0.4070 - val_accuracy: 0.8345 - val_loss: 0.4971\n",
            "Epoch 12/100\n",
            "750/750 - 3s - 4ms/step - accuracy: 0.8594 - loss: 0.3880 - val_accuracy: 0.8447 - val_loss: 0.4754\n",
            "Epoch 13/100\n",
            "750/750 - 3s - 4ms/step - accuracy: 0.8632 - loss: 0.3746 - val_accuracy: 0.8434 - val_loss: 0.4943\n",
            "Epoch 14/100\n",
            "750/750 - 3s - 4ms/step - accuracy: 0.8680 - loss: 0.3597 - val_accuracy: 0.8478 - val_loss: 0.4737\n",
            "Epoch 15/100\n",
            "750/750 - 2s - 3ms/step - accuracy: 0.8737 - loss: 0.3461 - val_accuracy: 0.8484 - val_loss: 0.4815\n",
            "Epoch 16/100\n",
            "750/750 - 2s - 3ms/step - accuracy: 0.8763 - loss: 0.3341 - val_accuracy: 0.8518 - val_loss: 0.4684\n",
            "Epoch 17/100\n",
            "750/750 - 2s - 3ms/step - accuracy: 0.8815 - loss: 0.3200 - val_accuracy: 0.8471 - val_loss: 0.4921\n",
            "Epoch 18/100\n",
            "750/750 - 3s - 4ms/step - accuracy: 0.8836 - loss: 0.3114 - val_accuracy: 0.8550 - val_loss: 0.4689\n",
            "Epoch 19/100\n",
            "750/750 - 3s - 3ms/step - accuracy: 0.8873 - loss: 0.3017 - val_accuracy: 0.8581 - val_loss: 0.4538\n",
            "Epoch 20/100\n",
            "750/750 - 2s - 3ms/step - accuracy: 0.8910 - loss: 0.2936 - val_accuracy: 0.8569 - val_loss: 0.4584\n",
            "Epoch 21/100\n",
            "750/750 - 2s - 3ms/step - accuracy: 0.8952 - loss: 0.2840 - val_accuracy: 0.8601 - val_loss: 0.4725\n",
            "Epoch 22/100\n",
            "750/750 - 3s - 4ms/step - accuracy: 0.8980 - loss: 0.2776 - val_accuracy: 0.8580 - val_loss: 0.4695\n",
            "Epoch 23/100\n",
            "750/750 - 3s - 3ms/step - accuracy: 0.8988 - loss: 0.2702 - val_accuracy: 0.8567 - val_loss: 0.4707\n",
            "Epoch 24/100\n",
            "750/750 - 3s - 3ms/step - accuracy: 0.9010 - loss: 0.2650 - val_accuracy: 0.8637 - val_loss: 0.4696\n",
            "Epoch 25/100\n",
            "750/750 - 3s - 3ms/step - accuracy: 0.9034 - loss: 0.2573 - val_accuracy: 0.8537 - val_loss: 0.4955\n",
            "Epoch 26/100\n",
            "750/750 - 3s - 4ms/step - accuracy: 0.9051 - loss: 0.2505 - val_accuracy: 0.8650 - val_loss: 0.4820\n",
            "Epoch 27/100\n",
            "750/750 - 3s - 3ms/step - accuracy: 0.9097 - loss: 0.2434 - val_accuracy: 0.8656 - val_loss: 0.4987\n",
            "Epoch 28/100\n",
            "750/750 - 3s - 3ms/step - accuracy: 0.9122 - loss: 0.2366 - val_accuracy: 0.8659 - val_loss: 0.4952\n",
            "Epoch 29/100\n",
            "750/750 - 2s - 3ms/step - accuracy: 0.9125 - loss: 0.2332 - val_accuracy: 0.8572 - val_loss: 0.5065\n",
            "Epoch 30/100\n",
            "750/750 - 2s - 3ms/step - accuracy: 0.9145 - loss: 0.2280 - val_accuracy: 0.8652 - val_loss: 0.5111\n",
            "Epoch 31/100\n",
            "750/750 - 3s - 4ms/step - accuracy: 0.9151 - loss: 0.2235 - val_accuracy: 0.8630 - val_loss: 0.5220\n",
            "Epoch 32/100\n",
            "750/750 - 2s - 3ms/step - accuracy: 0.9189 - loss: 0.2173 - val_accuracy: 0.8657 - val_loss: 0.5212\n",
            "Epoch 33/100\n",
            "750/750 - 2s - 3ms/step - accuracy: 0.9202 - loss: 0.2141 - val_accuracy: 0.8583 - val_loss: 0.5602\n",
            "Epoch 34/100\n",
            "750/750 - 3s - 4ms/step - accuracy: 0.9219 - loss: 0.2079 - val_accuracy: 0.8683 - val_loss: 0.5338\n",
            "Epoch 35/100\n",
            "750/750 - 3s - 4ms/step - accuracy: 0.9231 - loss: 0.2053 - val_accuracy: 0.8608 - val_loss: 0.5523\n",
            "Epoch 36/100\n",
            "750/750 - 3s - 4ms/step - accuracy: 0.9245 - loss: 0.2011 - val_accuracy: 0.8629 - val_loss: 0.5691\n",
            "Epoch 37/100\n",
            "750/750 - 3s - 4ms/step - accuracy: 0.9250 - loss: 0.2003 - val_accuracy: 0.8668 - val_loss: 0.5595\n",
            "Epoch 38/100\n",
            "750/750 - 3s - 4ms/step - accuracy: 0.9285 - loss: 0.1907 - val_accuracy: 0.8649 - val_loss: 0.5733\n",
            "Epoch 39/100\n",
            "750/750 - 3s - 4ms/step - accuracy: 0.9285 - loss: 0.1898 - val_accuracy: 0.8657 - val_loss: 0.5760\n",
            "Epoch 40/100\n",
            "750/750 - 2s - 3ms/step - accuracy: 0.9299 - loss: 0.1866 - val_accuracy: 0.8648 - val_loss: 0.6008\n",
            "Epoch 41/100\n",
            "750/750 - 3s - 4ms/step - accuracy: 0.9318 - loss: 0.1804 - val_accuracy: 0.8673 - val_loss: 0.5965\n",
            "Epoch 42/100\n",
            "750/750 - 3s - 4ms/step - accuracy: 0.9343 - loss: 0.1786 - val_accuracy: 0.8678 - val_loss: 0.6039\n",
            "Epoch 43/100\n",
            "750/750 - 3s - 4ms/step - accuracy: 0.9349 - loss: 0.1739 - val_accuracy: 0.8675 - val_loss: 0.6213\n",
            "Epoch 44/100\n",
            "750/750 - 2s - 3ms/step - accuracy: 0.9355 - loss: 0.1730 - val_accuracy: 0.8683 - val_loss: 0.6318\n",
            "Epoch 45/100\n",
            "750/750 - 2s - 3ms/step - accuracy: 0.9375 - loss: 0.1679 - val_accuracy: 0.8652 - val_loss: 0.6475\n",
            "Epoch 46/100\n",
            "750/750 - 2s - 3ms/step - accuracy: 0.9380 - loss: 0.1648 - val_accuracy: 0.8661 - val_loss: 0.6436\n",
            "Epoch 47/100\n",
            "750/750 - 3s - 4ms/step - accuracy: 0.9388 - loss: 0.1613 - val_accuracy: 0.8671 - val_loss: 0.6727\n",
            "Epoch 48/100\n",
            "750/750 - 5s - 7ms/step - accuracy: 0.9402 - loss: 0.1622 - val_accuracy: 0.8667 - val_loss: 0.6646\n",
            "Epoch 49/100\n",
            "750/750 - 2s - 2ms/step - accuracy: 0.9415 - loss: 0.1570 - val_accuracy: 0.8699 - val_loss: 0.6666\n",
            "Epoch 50/100\n",
            "750/750 - 2s - 3ms/step - accuracy: 0.9438 - loss: 0.1517 - val_accuracy: 0.8694 - val_loss: 0.6669\n",
            "Epoch 51/100\n",
            "750/750 - 2s - 3ms/step - accuracy: 0.9447 - loss: 0.1510 - val_accuracy: 0.8705 - val_loss: 0.6856\n",
            "Epoch 52/100\n",
            "750/750 - 3s - 4ms/step - accuracy: 0.9441 - loss: 0.1502 - val_accuracy: 0.8678 - val_loss: 0.7167\n",
            "Epoch 53/100\n",
            "750/750 - 3s - 4ms/step - accuracy: 0.9462 - loss: 0.1465 - val_accuracy: 0.8687 - val_loss: 0.7287\n",
            "Epoch 54/100\n",
            "750/750 - 5s - 6ms/step - accuracy: 0.9484 - loss: 0.1397 - val_accuracy: 0.8662 - val_loss: 0.7402\n",
            "Epoch 55/100\n",
            "750/750 - 2s - 3ms/step - accuracy: 0.9478 - loss: 0.1402 - val_accuracy: 0.8723 - val_loss: 0.7353\n",
            "Epoch 56/100\n",
            "750/750 - 4s - 5ms/step - accuracy: 0.9479 - loss: 0.1413 - val_accuracy: 0.8660 - val_loss: 0.7638\n",
            "Epoch 57/100\n",
            "750/750 - 3s - 4ms/step - accuracy: 0.9487 - loss: 0.1366 - val_accuracy: 0.8653 - val_loss: 0.7734\n",
            "Epoch 58/100\n",
            "750/750 - 4s - 6ms/step - accuracy: 0.9514 - loss: 0.1327 - val_accuracy: 0.8662 - val_loss: 0.7653\n",
            "Epoch 59/100\n",
            "750/750 - 3s - 4ms/step - accuracy: 0.9516 - loss: 0.1292 - val_accuracy: 0.8686 - val_loss: 0.7557\n",
            "Epoch 60/100\n",
            "750/750 - 3s - 3ms/step - accuracy: 0.9523 - loss: 0.1283 - val_accuracy: 0.8692 - val_loss: 0.8251\n",
            "Epoch 61/100\n",
            "750/750 - 2s - 3ms/step - accuracy: 0.9530 - loss: 0.1267 - val_accuracy: 0.8680 - val_loss: 0.7771\n",
            "Epoch 62/100\n",
            "750/750 - 3s - 4ms/step - accuracy: 0.9530 - loss: 0.1253 - val_accuracy: 0.8716 - val_loss: 0.8430\n",
            "Epoch 63/100\n",
            "750/750 - 2s - 3ms/step - accuracy: 0.9546 - loss: 0.1206 - val_accuracy: 0.8673 - val_loss: 0.8164\n",
            "Epoch 64/100\n",
            "750/750 - 2s - 3ms/step - accuracy: 0.9551 - loss: 0.1212 - val_accuracy: 0.8639 - val_loss: 0.8249\n",
            "Epoch 65/100\n",
            "750/750 - 3s - 3ms/step - accuracy: 0.9563 - loss: 0.1179 - val_accuracy: 0.8670 - val_loss: 0.8025\n",
            "Epoch 65: early stopping\n",
            "Restoring model weights from the end of the best epoch: 55.\n",
            "\n",
            "Training Model 2 (HeNormal)...\n",
            "Epoch 1/100\n",
            "750/750 - 4s - 5ms/step - accuracy: 0.8142 - loss: 0.5329 - val_accuracy: 0.8438 - val_loss: 0.4275\n",
            "Epoch 2/100\n",
            "750/750 - 3s - 3ms/step - accuracy: 0.8630 - loss: 0.3789 - val_accuracy: 0.8627 - val_loss: 0.3813\n",
            "Epoch 3/100\n",
            "750/750 - 3s - 4ms/step - accuracy: 0.8744 - loss: 0.3436 - val_accuracy: 0.8727 - val_loss: 0.3527\n",
            "Epoch 4/100\n",
            "750/750 - 3s - 4ms/step - accuracy: 0.8818 - loss: 0.3197 - val_accuracy: 0.8799 - val_loss: 0.3364\n",
            "Epoch 5/100\n",
            "750/750 - 3s - 3ms/step - accuracy: 0.8894 - loss: 0.2996 - val_accuracy: 0.8717 - val_loss: 0.3481\n",
            "Epoch 6/100\n",
            "750/750 - 3s - 3ms/step - accuracy: 0.8958 - loss: 0.2831 - val_accuracy: 0.8797 - val_loss: 0.3356\n",
            "Epoch 7/100\n",
            "750/750 - 3s - 3ms/step - accuracy: 0.8981 - loss: 0.2722 - val_accuracy: 0.8829 - val_loss: 0.3319\n",
            "Epoch 8/100\n",
            "750/750 - 2s - 3ms/step - accuracy: 0.9021 - loss: 0.2609 - val_accuracy: 0.8715 - val_loss: 0.3606\n",
            "Epoch 9/100\n",
            "750/750 - 3s - 4ms/step - accuracy: 0.9075 - loss: 0.2490 - val_accuracy: 0.8807 - val_loss: 0.3242\n",
            "Epoch 10/100\n",
            "750/750 - 3s - 4ms/step - accuracy: 0.9095 - loss: 0.2406 - val_accuracy: 0.8910 - val_loss: 0.3103\n",
            "Epoch 11/100\n",
            "750/750 - 3s - 4ms/step - accuracy: 0.9129 - loss: 0.2325 - val_accuracy: 0.8818 - val_loss: 0.3314\n",
            "Epoch 12/100\n",
            "750/750 - 2s - 3ms/step - accuracy: 0.9151 - loss: 0.2241 - val_accuracy: 0.8882 - val_loss: 0.3285\n",
            "Epoch 13/100\n",
            "750/750 - 2s - 3ms/step - accuracy: 0.9172 - loss: 0.2195 - val_accuracy: 0.8893 - val_loss: 0.3128\n",
            "Epoch 14/100\n",
            "750/750 - 3s - 4ms/step - accuracy: 0.9220 - loss: 0.2106 - val_accuracy: 0.8867 - val_loss: 0.3345\n",
            "Epoch 15/100\n",
            "750/750 - 2s - 3ms/step - accuracy: 0.9227 - loss: 0.2043 - val_accuracy: 0.8875 - val_loss: 0.3293\n",
            "Epoch 16/100\n",
            "750/750 - 2s - 3ms/step - accuracy: 0.9251 - loss: 0.2000 - val_accuracy: 0.8891 - val_loss: 0.3440\n",
            "Epoch 17/100\n",
            "750/750 - 2s - 3ms/step - accuracy: 0.9280 - loss: 0.1905 - val_accuracy: 0.8890 - val_loss: 0.3333\n",
            "Epoch 18/100\n",
            "750/750 - 2s - 3ms/step - accuracy: 0.9307 - loss: 0.1842 - val_accuracy: 0.8847 - val_loss: 0.3588\n",
            "Epoch 19/100\n",
            "750/750 - 2s - 3ms/step - accuracy: 0.9319 - loss: 0.1795 - val_accuracy: 0.8892 - val_loss: 0.3396\n",
            "Epoch 20/100\n",
            "750/750 - 3s - 3ms/step - accuracy: 0.9341 - loss: 0.1758 - val_accuracy: 0.8917 - val_loss: 0.3444\n",
            "Epoch 21/100\n",
            "750/750 - 2s - 3ms/step - accuracy: 0.9359 - loss: 0.1704 - val_accuracy: 0.8895 - val_loss: 0.3508\n",
            "Epoch 22/100\n",
            "750/750 - 2s - 3ms/step - accuracy: 0.9366 - loss: 0.1663 - val_accuracy: 0.8882 - val_loss: 0.3572\n",
            "Epoch 23/100\n",
            "750/750 - 2s - 3ms/step - accuracy: 0.9383 - loss: 0.1623 - val_accuracy: 0.8909 - val_loss: 0.3556\n",
            "Epoch 24/100\n",
            "750/750 - 2s - 3ms/step - accuracy: 0.9431 - loss: 0.1550 - val_accuracy: 0.8883 - val_loss: 0.3717\n",
            "Epoch 25/100\n",
            "750/750 - 2s - 3ms/step - accuracy: 0.9430 - loss: 0.1516 - val_accuracy: 0.8935 - val_loss: 0.3454\n",
            "Epoch 26/100\n",
            "750/750 - 2s - 3ms/step - accuracy: 0.9434 - loss: 0.1504 - val_accuracy: 0.8931 - val_loss: 0.3623\n",
            "Epoch 27/100\n",
            "750/750 - 3s - 4ms/step - accuracy: 0.9458 - loss: 0.1448 - val_accuracy: 0.8926 - val_loss: 0.3667\n",
            "Epoch 28/100\n",
            "750/750 - 3s - 4ms/step - accuracy: 0.9476 - loss: 0.1403 - val_accuracy: 0.8901 - val_loss: 0.3836\n",
            "Epoch 29/100\n",
            "750/750 - 3s - 4ms/step - accuracy: 0.9494 - loss: 0.1360 - val_accuracy: 0.8904 - val_loss: 0.3801\n",
            "Epoch 30/100\n",
            "750/750 - 3s - 3ms/step - accuracy: 0.9513 - loss: 0.1323 - val_accuracy: 0.8915 - val_loss: 0.3912\n",
            "Epoch 31/100\n",
            "750/750 - 3s - 4ms/step - accuracy: 0.9507 - loss: 0.1295 - val_accuracy: 0.8908 - val_loss: 0.3865\n",
            "Epoch 32/100\n",
            "750/750 - 3s - 4ms/step - accuracy: 0.9508 - loss: 0.1297 - val_accuracy: 0.8930 - val_loss: 0.3964\n",
            "Epoch 33/100\n",
            "750/750 - 3s - 4ms/step - accuracy: 0.9542 - loss: 0.1230 - val_accuracy: 0.8924 - val_loss: 0.4116\n",
            "Epoch 34/100\n",
            "750/750 - 5s - 7ms/step - accuracy: 0.9538 - loss: 0.1226 - val_accuracy: 0.8882 - val_loss: 0.4343\n",
            "Epoch 35/100\n",
            "750/750 - 3s - 3ms/step - accuracy: 0.9572 - loss: 0.1139 - val_accuracy: 0.8831 - val_loss: 0.4463\n",
            "Epoch 35: early stopping\n",
            "Restoring model weights from the end of the best epoch: 25.\n",
            "\n",
            "--- Plotting Training vs. Validation Accuracy ---\n",
            "Accuracy comparison plot saved to 'plots/accuracy_comparison.png'\n",
            "\n",
            "--- Analyzing Gradient Flow ---\n",
            "Gradient flow plot saved to 'plots/gradient_flow_randomnormal.png'\n",
            "Gradient flow plot saved to 'plots/gradient_flow_henormal.png'\n",
            "\n",
            "Exercise complete. Check the 'plots/' directory for generated graphs.\n"
          ]
        },
        {
          "data": {
            "image/png": "[encoded data removed]",
            "text/plain": [
              "<Figure size 1200x800 with 1 Axes>"
            ]
          },
          "metadata": {},
          "output_type": "display_data"
        },
        {
          "data": {
            "image/png": "[encoded data removed]",
            "text/plain": [
              "<Figure size 1000x700 with 1 Axes>"
            ]
          },
          "metadata": {},
          "output_type": "display_data"
        },
        {
          "data": {
            "image/png": "[encoded data removed]",
            "text/plain": [
              "<Figure size 1000x700 with 1 Axes>"
            ]
          },
          "metadata": {},
          "output_type": "display_data"
        }
      ],
      "source": [
        "import tensorflow as tf\n",
        "from tensorflow.keras import layers, initializers, callbacks, losses, optimizers\n",
        "import matplotlib.pyplot as plt\n",
        "import numpy as np\n",
        "import os\n",
        "\n",
        "# Create a directory to save the plots\n",
        "if not os.path.exists('plots'):\n",
        "    os.makedirs('plots')\n",
        "print(\"Setup complete. Plots will be saved in the 'plots/' directory.\")\n",
        "\n",
        "# Load Dataset\n",
        "print(\"Loading and preprocessing Fashion MNIST dataset...\")\n",
        "(x_train, y_train), (x_test, y_test) = tf.keras.datasets.fashion_mnist.load_data()\n",
        "\n",
        "# Normalize pixel values and flatten the images\n",
        "x_train = x_train.reshape(-1, 784).astype(\"float32\") / 255.0\n",
        "x_test = x_test.reshape(-1, 784).astype(\"float32\") / 255.0\n",
        "print(\"Data preprocessing complete.\")\n",
        "\n",
        "\n",
        "# We define functions to create each model for consistency.\n",
        "\n",
        "def create_model_random_normal():\n",
        "    \"\"\"Builds a model with RandomNormal(stddev=1.0) kernel initializer.\"\"\"\n",
        "    model = tf.keras.Sequential([\n",
        "        tf.keras.Input(shape=(784,)),\n",
        "        layers.Dense(128, activation='relu',\n",
        "                     kernel_initializer=initializers.RandomNormal(stddev=1.0)),\n",
        "        layers.Dense(64, activation='relu',\n",
        "                     kernel_initializer=initializers.RandomNormal(stddev=1.0)),\n",
        "        layers.Dense(10, activation='softmax')\n",
        "    ])\n",
        "    model.compile(optimizer='adam',\n",
        "                  loss='sparse_categorical_crossentropy',\n",
        "                  metrics=['accuracy'])\n",
        "    return model\n",
        "\n",
        "def create_model_he_normal():\n",
        "    \"\"\"Builds a model with HeNormal() initializer for both kernel and bias.\"\"\"\n",
        "    model = tf.keras.Sequential([\n",
        "        tf.keras.Input(shape=(784,)),\n",
        "        layers.Dense(128, activation='relu',\n",
        "                     kernel_initializer=initializers.HeNormal(),\n",
        "                     bias_initializer=initializers.HeNormal()),\n",
        "        layers.Dense(64, activation='relu',\n",
        "                     kernel_initializer=initializers.HeNormal(),\n",
        "                     bias_initializer=initializers.HeNormal()),\n",
        "        layers.Dense(10, activation='softmax')\n",
        "    ])\n",
        "    model.compile(optimizer='adam',\n",
        "                  loss='sparse_categorical_crossentropy',\n",
        "                  metrics=['accuracy'])\n",
        "    return model\n",
        "\n",
        "print(\"\\n--- Training and Comparing Models ---\")\n",
        "\n",
        "# Create instances of the models\n",
        "model_random = create_model_random_normal()\n",
        "model_he = create_model_he_normal()\n",
        "\n",
        "print(\"Model with RandomNormal(stddev=1.0) Initializer Summary:\")\n",
        "model_random.summary()\n",
        "\n",
        "print(\"\\nModel with HeNormal() Initializer Summary:\")\n",
        "model_he.summary()\n",
        "\n",
        "\n",
        "# Define EarlyStopping callback\n",
        "early_stop = callbacks.EarlyStopping(\n",
        "    monitor='val_accuracy',\n",
        "    patience=10, # Stop after 10 epochs with no improvement in validation accuracy\n",
        "    restore_best_weights=True,\n",
        "    verbose=1\n",
        ")\n",
        "\n",
        "# Train Model 1\n",
        "print(\"\\nTraining Model 1 (RandomNormal)...\")\n",
        "history_random = model_random.fit(\n",
        "    x_train, y_train,\n",
        "    epochs=100,\n",
        "    batch_size=64,\n",
        "    validation_split=0.2,\n",
        "    callbacks=[early_stop],\n",
        "    verbose=2\n",
        ")\n",
        "\n",
        "# Train Model 2\n",
        "print(\"\\nTraining Model 2 (HeNormal)...\")\n",
        "history_he = model_he.fit(\n",
        "    x_train, y_train,\n",
        "    epochs=100,\n",
        "    batch_size=64,\n",
        "    validation_split=0.2,\n",
        "    callbacks=[early_stop],\n",
        "    verbose=2\n",
        ")\n",
        "\n",
        "\n",
        "# Plots for analysis\n",
        "print(\"\\n--- Plotting Training vs. Validation Accuracy ---\")\n",
        "\n",
        "plt.figure(figsize=(12, 8))\n",
        "plt.plot(history_random.history['accuracy'], label='RandomNormal - Train Accuracy', color='royalblue', linestyle='--')\n",
        "plt.plot(history_random.history['val_accuracy'], label='RandomNormal - Validation Accuracy', color='royalblue', linewidth=2)\n",
        "plt.plot(history_he.history['accuracy'], label='HeNormal - Train Accuracy', color='darkorange', linestyle='--')\n",
        "plt.plot(history_he.history['val_accuracy'], label='HeNormal - Validation Accuracy', color='darkorange', linewidth=2)\n",
        "\n",
        "plt.title('Comparison of Weight Initializers: Training & Validation Accuracy', fontsize=16)\n",
        "plt.xlabel('Epochs', fontsize=12)\n",
        "plt.ylabel('Accuracy', fontsize=12)\n",
        "plt.legend(fontsize=12)\n",
        "plt.grid(True)\n",
        "plt.ylim(0.5, 1.0) # Set y-axis limits for better visualization\n",
        "plt.tight_layout()\n",
        "plt.savefig('plots/accuracy_comparison.png')\n",
        "print(\"Accuracy comparison plot saved to 'plots/accuracy_comparison.png'\")\n",
        "# plt.show() # Uncomment to display plot directly\n",
        "\n",
        "\n",
        "# Gradient Flow analysis\n",
        "print(\"\\n--- Analyzing Gradient Flow ---\")\n",
        "\n",
        "# Re-create models to analyze gradients from the start of training\n",
        "model_random_grad = create_model_random_normal()\n",
        "model_he_grad = create_model_he_normal()\n",
        "\n",
        "# Use a small subset of data to check initial gradients\n",
        "x_sample = x_train[:64]\n",
        "y_sample = y_train[:64]\n",
        "\n",
        "def get_gradient_norms(model, x, y):\n",
        "    \"\"\"Calculates the L2 norm of gradients for each trainable layer.\"\"\"\n",
        "    with tf.GradientTape() as tape:\n",
        "        preds = model(x, training=True)\n",
        "        loss = tf.keras.losses.sparse_categorical_crossentropy(y, preds)\n",
        "    \n",
        "    grads = tape.gradient(loss, model.trainable_variables)\n",
        "    grad_norms = [tf.norm(g).numpy() for g in grads]\n",
        "    return grad_norms\n",
        "\n",
        "# Get gradient norms for both models\n",
        "grad_norms_random = get_gradient_norms(model_random_grad, x_sample, y_sample)\n",
        "grad_norms_he = get_gradient_norms(model_he_grad, x_sample, y_sample)\n",
        "\n",
        "# Get layer names for plotting\n",
        "layer_names = [var.name for var in model_random_grad.trainable_variables]\n",
        "\n",
        "def plot_gradient_flow(norms, model_name):\n",
        "    \"\"\"Plots the gradient norms as a bar chart.\"\"\"\n",
        "    plt.figure(figsize=(10, 7))\n",
        "    plt.bar(np.arange(len(norms)), norms, color='skyblue')\n",
        "    plt.xticks(np.arange(len(norms)), labels=layer_names, rotation=45, ha='right')\n",
        "    plt.ylabel('Gradient L2 Norm')\n",
        "    plt.title(f'Initial Gradient Flow for {model_name} Model', fontsize=16)\n",
        "    plt.grid(axis='y', linestyle='--', alpha=0.7)\n",
        "    plt.tight_layout()\n",
        "    plt.savefig(f'plots/gradient_flow_{model_name.lower()}.png')\n",
        "    print(f\"Gradient flow plot saved to 'plots/gradient_flow_{model_name.lower()}.png'\")\n",
        "    # plt.show() # Uncomment to display plot directly\n",
        "\n",
        "plot_gradient_flow(grad_norms_random, 'RandomNormal')\n",
        "plot_gradient_flow(grad_norms_he, 'HeNormal')\n",
        "\n",
        "print(\"\\nExercise complete. Check the 'plots/' directory for generated graphs.\")\n"
      ]
    }
  ],
  "metadata": {
    "accelerator": "GPU",
    "colab": {
      "gpuType": "T4",
      "private_outputs": true,
      "provenance": []
    },
    "kernelspec": {
      "display_name": "Python 3",
      "name": "python3"
    },
    "language_info": {
      "codemirror_mode": {
        "name": "ipython",
        "version": 3
      },
      "file_extension": ".py",
      "mimetype": "text/x-python",
      "name": "python",
      "nbconvert_exporter": "python",
      "pygments_lexer": "ipython3",
      "version": "3.12.10"
    }
  },
  "nbformat": 4,
  "nbformat_minor": 0
}
